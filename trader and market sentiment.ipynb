{
  "nbformat": 4,
  "nbformat_minor": 0,
  "metadata": {
    "colab": {
      "provenance": []
    },
    "kernelspec": {
      "name": "python3",
      "display_name": "Python 3"
    },
    "language_info": {
      "name": "python"
    }
  },
  "cells": [
    {
      "cell_type": "markdown",
      "source": [],
      "metadata": {
        "id": "G2_A4pRBm7N3"
      }
    },
    {
      "cell_type": "markdown",
      "source": [
        "# Siddharth Singh"
      ],
      "metadata": {
        "id": "k3ODrcj__haQ"
      }
    },
    {
      "cell_type": "code",
      "source": [
        "mkdir ds_siddharth_singh"
      ],
      "metadata": {
        "id": "uHgeQItHADPN"
      },
      "execution_count": 60,
      "outputs": []
    },
    {
      "cell_type": "code",
      "execution_count": 3,
      "metadata": {
        "id": "CJNxSkAWmw_0"
      },
      "outputs": [],
      "source": [
        "import numpy as np\n",
        "import pandas as pd"
      ]
    },
    {
      "cell_type": "code",
      "source": [
        "sentiment = pd.read_csv(\"/content/fear_greed_index.csv\")\n",
        "trades = pd.read_csv(\"/content/historical_data.csv\")"
      ],
      "metadata": {
        "id": "Jwqjdwznm9JP"
      },
      "execution_count": 4,
      "outputs": []
    },
    {
      "cell_type": "code",
      "source": [
        "sentiment"
      ],
      "metadata": {
        "colab": {
          "base_uri": "https://localhost:8080/",
          "height": 423
        },
        "id": "BJtVI44mnp8C",
        "outputId": "6f16d4de-a732-4ab1-ab1f-bd49a8dafb46"
      },
      "execution_count": 5,
      "outputs": [
        {
          "output_type": "execute_result",
          "data": {
            "text/plain": [
              "       timestamp  value classification        date\n",
              "0     1517463000     30           Fear  2018-02-01\n",
              "1     1517549400     15   Extreme Fear  2018-02-02\n",
              "2     1517635800     40           Fear  2018-02-03\n",
              "3     1517722200     24   Extreme Fear  2018-02-04\n",
              "4     1517808600     11   Extreme Fear  2018-02-05\n",
              "...          ...    ...            ...         ...\n",
              "2639  1745818200     54        Neutral  2025-04-28\n",
              "2640  1745904600     60          Greed  2025-04-29\n",
              "2641  1745991000     56          Greed  2025-04-30\n",
              "2642  1746077400     53        Neutral  2025-05-01\n",
              "2643  1746163800     67          Greed  2025-05-02\n",
              "\n",
              "[2644 rows x 4 columns]"
            ],
            "text/html": [
              "\n",
              "  <div id=\"df-a45cbe6c-efac-499b-aab7-29660a5bf403\" class=\"colab-df-container\">\n",
              "    <div>\n",
              "<style scoped>\n",
              "    .dataframe tbody tr th:only-of-type {\n",
              "        vertical-align: middle;\n",
              "    }\n",
              "\n",
              "    .dataframe tbody tr th {\n",
              "        vertical-align: top;\n",
              "    }\n",
              "\n",
              "    .dataframe thead th {\n",
              "        text-align: right;\n",
              "    }\n",
              "</style>\n",
              "<table border=\"1\" class=\"dataframe\">\n",
              "  <thead>\n",
              "    <tr style=\"text-align: right;\">\n",
              "      <th></th>\n",
              "      <th>timestamp</th>\n",
              "      <th>value</th>\n",
              "      <th>classification</th>\n",
              "      <th>date</th>\n",
              "    </tr>\n",
              "  </thead>\n",
              "  <tbody>\n",
              "    <tr>\n",
              "      <th>0</th>\n",
              "      <td>1517463000</td>\n",
              "      <td>30</td>\n",
              "      <td>Fear</td>\n",
              "      <td>2018-02-01</td>\n",
              "    </tr>\n",
              "    <tr>\n",
              "      <th>1</th>\n",
              "      <td>1517549400</td>\n",
              "      <td>15</td>\n",
              "      <td>Extreme Fear</td>\n",
              "      <td>2018-02-02</td>\n",
              "    </tr>\n",
              "    <tr>\n",
              "      <th>2</th>\n",
              "      <td>1517635800</td>\n",
              "      <td>40</td>\n",
              "      <td>Fear</td>\n",
              "      <td>2018-02-03</td>\n",
              "    </tr>\n",
              "    <tr>\n",
              "      <th>3</th>\n",
              "      <td>1517722200</td>\n",
              "      <td>24</td>\n",
              "      <td>Extreme Fear</td>\n",
              "      <td>2018-02-04</td>\n",
              "    </tr>\n",
              "    <tr>\n",
              "      <th>4</th>\n",
              "      <td>1517808600</td>\n",
              "      <td>11</td>\n",
              "      <td>Extreme Fear</td>\n",
              "      <td>2018-02-05</td>\n",
              "    </tr>\n",
              "    <tr>\n",
              "      <th>...</th>\n",
              "      <td>...</td>\n",
              "      <td>...</td>\n",
              "      <td>...</td>\n",
              "      <td>...</td>\n",
              "    </tr>\n",
              "    <tr>\n",
              "      <th>2639</th>\n",
              "      <td>1745818200</td>\n",
              "      <td>54</td>\n",
              "      <td>Neutral</td>\n",
              "      <td>2025-04-28</td>\n",
              "    </tr>\n",
              "    <tr>\n",
              "      <th>2640</th>\n",
              "      <td>1745904600</td>\n",
              "      <td>60</td>\n",
              "      <td>Greed</td>\n",
              "      <td>2025-04-29</td>\n",
              "    </tr>\n",
              "    <tr>\n",
              "      <th>2641</th>\n",
              "      <td>1745991000</td>\n",
              "      <td>56</td>\n",
              "      <td>Greed</td>\n",
              "      <td>2025-04-30</td>\n",
              "    </tr>\n",
              "    <tr>\n",
              "      <th>2642</th>\n",
              "      <td>1746077400</td>\n",
              "      <td>53</td>\n",
              "      <td>Neutral</td>\n",
              "      <td>2025-05-01</td>\n",
              "    </tr>\n",
              "    <tr>\n",
              "      <th>2643</th>\n",
              "      <td>1746163800</td>\n",
              "      <td>67</td>\n",
              "      <td>Greed</td>\n",
              "      <td>2025-05-02</td>\n",
              "    </tr>\n",
              "  </tbody>\n",
              "</table>\n",
              "<p>2644 rows × 4 columns</p>\n",
              "</div>\n",
              "    <div class=\"colab-df-buttons\">\n",
              "\n",
              "  <div class=\"colab-df-container\">\n",
              "    <button class=\"colab-df-convert\" onclick=\"convertToInteractive('df-a45cbe6c-efac-499b-aab7-29660a5bf403')\"\n",
              "            title=\"Convert this dataframe to an interactive table.\"\n",
              "            style=\"display:none;\">\n",
              "\n",
              "  <svg xmlns=\"http://www.w3.org/2000/svg\" height=\"24px\" viewBox=\"0 -960 960 960\">\n",
              "    <path d=\"M120-120v-720h720v720H120Zm60-500h600v-160H180v160Zm220 220h160v-160H400v160Zm0 220h160v-160H400v160ZM180-400h160v-160H180v160Zm440 0h160v-160H620v160ZM180-180h160v-160H180v160Zm440 0h160v-160H620v160Z\"/>\n",
              "  </svg>\n",
              "    </button>\n",
              "\n",
              "  <style>\n",
              "    .colab-df-container {\n",
              "      display:flex;\n",
              "      gap: 12px;\n",
              "    }\n",
              "\n",
              "    .colab-df-convert {\n",
              "      background-color: #E8F0FE;\n",
              "      border: none;\n",
              "      border-radius: 50%;\n",
              "      cursor: pointer;\n",
              "      display: none;\n",
              "      fill: #1967D2;\n",
              "      height: 32px;\n",
              "      padding: 0 0 0 0;\n",
              "      width: 32px;\n",
              "    }\n",
              "\n",
              "    .colab-df-convert:hover {\n",
              "      background-color: #E2EBFA;\n",
              "      box-shadow: 0px 1px 2px rgba(60, 64, 67, 0.3), 0px 1px 3px 1px rgba(60, 64, 67, 0.15);\n",
              "      fill: #174EA6;\n",
              "    }\n",
              "\n",
              "    .colab-df-buttons div {\n",
              "      margin-bottom: 4px;\n",
              "    }\n",
              "\n",
              "    [theme=dark] .colab-df-convert {\n",
              "      background-color: #3B4455;\n",
              "      fill: #D2E3FC;\n",
              "    }\n",
              "\n",
              "    [theme=dark] .colab-df-convert:hover {\n",
              "      background-color: #434B5C;\n",
              "      box-shadow: 0px 1px 3px 1px rgba(0, 0, 0, 0.15);\n",
              "      filter: drop-shadow(0px 1px 2px rgba(0, 0, 0, 0.3));\n",
              "      fill: #FFFFFF;\n",
              "    }\n",
              "  </style>\n",
              "\n",
              "    <script>\n",
              "      const buttonEl =\n",
              "        document.querySelector('#df-a45cbe6c-efac-499b-aab7-29660a5bf403 button.colab-df-convert');\n",
              "      buttonEl.style.display =\n",
              "        google.colab.kernel.accessAllowed ? 'block' : 'none';\n",
              "\n",
              "      async function convertToInteractive(key) {\n",
              "        const element = document.querySelector('#df-a45cbe6c-efac-499b-aab7-29660a5bf403');\n",
              "        const dataTable =\n",
              "          await google.colab.kernel.invokeFunction('convertToInteractive',\n",
              "                                                    [key], {});\n",
              "        if (!dataTable) return;\n",
              "\n",
              "        const docLinkHtml = 'Like what you see? Visit the ' +\n",
              "          '<a target=\"_blank\" href=https://colab.research.google.com/notebooks/data_table.ipynb>data table notebook</a>'\n",
              "          + ' to learn more about interactive tables.';\n",
              "        element.innerHTML = '';\n",
              "        dataTable['output_type'] = 'display_data';\n",
              "        await google.colab.output.renderOutput(dataTable, element);\n",
              "        const docLink = document.createElement('div');\n",
              "        docLink.innerHTML = docLinkHtml;\n",
              "        element.appendChild(docLink);\n",
              "      }\n",
              "    </script>\n",
              "  </div>\n",
              "\n",
              "\n",
              "    <div id=\"df-9e09459c-272d-459d-a402-b5378ecbf7c4\">\n",
              "      <button class=\"colab-df-quickchart\" onclick=\"quickchart('df-9e09459c-272d-459d-a402-b5378ecbf7c4')\"\n",
              "                title=\"Suggest charts\"\n",
              "                style=\"display:none;\">\n",
              "\n",
              "<svg xmlns=\"http://www.w3.org/2000/svg\" height=\"24px\"viewBox=\"0 0 24 24\"\n",
              "     width=\"24px\">\n",
              "    <g>\n",
              "        <path d=\"M19 3H5c-1.1 0-2 .9-2 2v14c0 1.1.9 2 2 2h14c1.1 0 2-.9 2-2V5c0-1.1-.9-2-2-2zM9 17H7v-7h2v7zm4 0h-2V7h2v10zm4 0h-2v-4h2v4z\"/>\n",
              "    </g>\n",
              "</svg>\n",
              "      </button>\n",
              "\n",
              "<style>\n",
              "  .colab-df-quickchart {\n",
              "      --bg-color: #E8F0FE;\n",
              "      --fill-color: #1967D2;\n",
              "      --hover-bg-color: #E2EBFA;\n",
              "      --hover-fill-color: #174EA6;\n",
              "      --disabled-fill-color: #AAA;\n",
              "      --disabled-bg-color: #DDD;\n",
              "  }\n",
              "\n",
              "  [theme=dark] .colab-df-quickchart {\n",
              "      --bg-color: #3B4455;\n",
              "      --fill-color: #D2E3FC;\n",
              "      --hover-bg-color: #434B5C;\n",
              "      --hover-fill-color: #FFFFFF;\n",
              "      --disabled-bg-color: #3B4455;\n",
              "      --disabled-fill-color: #666;\n",
              "  }\n",
              "\n",
              "  .colab-df-quickchart {\n",
              "    background-color: var(--bg-color);\n",
              "    border: none;\n",
              "    border-radius: 50%;\n",
              "    cursor: pointer;\n",
              "    display: none;\n",
              "    fill: var(--fill-color);\n",
              "    height: 32px;\n",
              "    padding: 0;\n",
              "    width: 32px;\n",
              "  }\n",
              "\n",
              "  .colab-df-quickchart:hover {\n",
              "    background-color: var(--hover-bg-color);\n",
              "    box-shadow: 0 1px 2px rgba(60, 64, 67, 0.3), 0 1px 3px 1px rgba(60, 64, 67, 0.15);\n",
              "    fill: var(--button-hover-fill-color);\n",
              "  }\n",
              "\n",
              "  .colab-df-quickchart-complete:disabled,\n",
              "  .colab-df-quickchart-complete:disabled:hover {\n",
              "    background-color: var(--disabled-bg-color);\n",
              "    fill: var(--disabled-fill-color);\n",
              "    box-shadow: none;\n",
              "  }\n",
              "\n",
              "  .colab-df-spinner {\n",
              "    border: 2px solid var(--fill-color);\n",
              "    border-color: transparent;\n",
              "    border-bottom-color: var(--fill-color);\n",
              "    animation:\n",
              "      spin 1s steps(1) infinite;\n",
              "  }\n",
              "\n",
              "  @keyframes spin {\n",
              "    0% {\n",
              "      border-color: transparent;\n",
              "      border-bottom-color: var(--fill-color);\n",
              "      border-left-color: var(--fill-color);\n",
              "    }\n",
              "    20% {\n",
              "      border-color: transparent;\n",
              "      border-left-color: var(--fill-color);\n",
              "      border-top-color: var(--fill-color);\n",
              "    }\n",
              "    30% {\n",
              "      border-color: transparent;\n",
              "      border-left-color: var(--fill-color);\n",
              "      border-top-color: var(--fill-color);\n",
              "      border-right-color: var(--fill-color);\n",
              "    }\n",
              "    40% {\n",
              "      border-color: transparent;\n",
              "      border-right-color: var(--fill-color);\n",
              "      border-top-color: var(--fill-color);\n",
              "    }\n",
              "    60% {\n",
              "      border-color: transparent;\n",
              "      border-right-color: var(--fill-color);\n",
              "    }\n",
              "    80% {\n",
              "      border-color: transparent;\n",
              "      border-right-color: var(--fill-color);\n",
              "      border-bottom-color: var(--fill-color);\n",
              "    }\n",
              "    90% {\n",
              "      border-color: transparent;\n",
              "      border-bottom-color: var(--fill-color);\n",
              "    }\n",
              "  }\n",
              "</style>\n",
              "\n",
              "      <script>\n",
              "        async function quickchart(key) {\n",
              "          const quickchartButtonEl =\n",
              "            document.querySelector('#' + key + ' button');\n",
              "          quickchartButtonEl.disabled = true;  // To prevent multiple clicks.\n",
              "          quickchartButtonEl.classList.add('colab-df-spinner');\n",
              "          try {\n",
              "            const charts = await google.colab.kernel.invokeFunction(\n",
              "                'suggestCharts', [key], {});\n",
              "          } catch (error) {\n",
              "            console.error('Error during call to suggestCharts:', error);\n",
              "          }\n",
              "          quickchartButtonEl.classList.remove('colab-df-spinner');\n",
              "          quickchartButtonEl.classList.add('colab-df-quickchart-complete');\n",
              "        }\n",
              "        (() => {\n",
              "          let quickchartButtonEl =\n",
              "            document.querySelector('#df-9e09459c-272d-459d-a402-b5378ecbf7c4 button');\n",
              "          quickchartButtonEl.style.display =\n",
              "            google.colab.kernel.accessAllowed ? 'block' : 'none';\n",
              "        })();\n",
              "      </script>\n",
              "    </div>\n",
              "\n",
              "  <div id=\"id_43b49e04-bd24-4df7-8c90-1c6d28cb3358\">\n",
              "    <style>\n",
              "      .colab-df-generate {\n",
              "        background-color: #E8F0FE;\n",
              "        border: none;\n",
              "        border-radius: 50%;\n",
              "        cursor: pointer;\n",
              "        display: none;\n",
              "        fill: #1967D2;\n",
              "        height: 32px;\n",
              "        padding: 0 0 0 0;\n",
              "        width: 32px;\n",
              "      }\n",
              "\n",
              "      .colab-df-generate:hover {\n",
              "        background-color: #E2EBFA;\n",
              "        box-shadow: 0px 1px 2px rgba(60, 64, 67, 0.3), 0px 1px 3px 1px rgba(60, 64, 67, 0.15);\n",
              "        fill: #174EA6;\n",
              "      }\n",
              "\n",
              "      [theme=dark] .colab-df-generate {\n",
              "        background-color: #3B4455;\n",
              "        fill: #D2E3FC;\n",
              "      }\n",
              "\n",
              "      [theme=dark] .colab-df-generate:hover {\n",
              "        background-color: #434B5C;\n",
              "        box-shadow: 0px 1px 3px 1px rgba(0, 0, 0, 0.15);\n",
              "        filter: drop-shadow(0px 1px 2px rgba(0, 0, 0, 0.3));\n",
              "        fill: #FFFFFF;\n",
              "      }\n",
              "    </style>\n",
              "    <button class=\"colab-df-generate\" onclick=\"generateWithVariable('sentiment')\"\n",
              "            title=\"Generate code using this dataframe.\"\n",
              "            style=\"display:none;\">\n",
              "\n",
              "  <svg xmlns=\"http://www.w3.org/2000/svg\" height=\"24px\"viewBox=\"0 0 24 24\"\n",
              "       width=\"24px\">\n",
              "    <path d=\"M7,19H8.4L18.45,9,17,7.55,7,17.6ZM5,21V16.75L18.45,3.32a2,2,0,0,1,2.83,0l1.4,1.43a1.91,1.91,0,0,1,.58,1.4,1.91,1.91,0,0,1-.58,1.4L9.25,21ZM18.45,9,17,7.55Zm-12,3A5.31,5.31,0,0,0,4.9,8.1,5.31,5.31,0,0,0,1,6.5,5.31,5.31,0,0,0,4.9,4.9,5.31,5.31,0,0,0,6.5,1,5.31,5.31,0,0,0,8.1,4.9,5.31,5.31,0,0,0,12,6.5,5.46,5.46,0,0,0,6.5,12Z\"/>\n",
              "  </svg>\n",
              "    </button>\n",
              "    <script>\n",
              "      (() => {\n",
              "      const buttonEl =\n",
              "        document.querySelector('#id_43b49e04-bd24-4df7-8c90-1c6d28cb3358 button.colab-df-generate');\n",
              "      buttonEl.style.display =\n",
              "        google.colab.kernel.accessAllowed ? 'block' : 'none';\n",
              "\n",
              "      buttonEl.onclick = () => {\n",
              "        google.colab.notebook.generateWithVariable('sentiment');\n",
              "      }\n",
              "      })();\n",
              "    </script>\n",
              "  </div>\n",
              "\n",
              "    </div>\n",
              "  </div>\n"
            ],
            "application/vnd.google.colaboratory.intrinsic+json": {
              "type": "dataframe",
              "variable_name": "sentiment",
              "summary": "{\n  \"name\": \"sentiment\",\n  \"rows\": 2644,\n  \"fields\": [\n    {\n      \"column\": \"timestamp\",\n      \"properties\": {\n        \"dtype\": \"number\",\n        \"std\": 65979674,\n        \"min\": 1517463000,\n        \"max\": 1746163800,\n        \"num_unique_values\": 2644,\n        \"samples\": [\n          1594531800,\n          1613626200,\n          1630819800\n        ],\n        \"semantic_type\": \"\",\n        \"description\": \"\"\n      }\n    },\n    {\n      \"column\": \"value\",\n      \"properties\": {\n        \"dtype\": \"number\",\n        \"std\": 21,\n        \"min\": 5,\n        \"max\": 95,\n        \"num_unique_values\": 90,\n        \"samples\": [\n          61,\n          47,\n          65\n        ],\n        \"semantic_type\": \"\",\n        \"description\": \"\"\n      }\n    },\n    {\n      \"column\": \"classification\",\n      \"properties\": {\n        \"dtype\": \"category\",\n        \"num_unique_values\": 5,\n        \"samples\": [\n          \"Extreme Fear\",\n          \"Extreme Greed\",\n          \"Neutral\"\n        ],\n        \"semantic_type\": \"\",\n        \"description\": \"\"\n      }\n    },\n    {\n      \"column\": \"date\",\n      \"properties\": {\n        \"dtype\": \"object\",\n        \"num_unique_values\": 2644,\n        \"samples\": [\n          \"2020-07-12\",\n          \"2021-02-18\",\n          \"2021-09-05\"\n        ],\n        \"semantic_type\": \"\",\n        \"description\": \"\"\n      }\n    }\n  ]\n}"
            }
          },
          "metadata": {},
          "execution_count": 5
        }
      ]
    },
    {
      "cell_type": "code",
      "source": [
        "trades"
      ],
      "metadata": {
        "colab": {
          "base_uri": "https://localhost:8080/",
          "height": 634
        },
        "id": "-XqUxUTznwY-",
        "outputId": "747afdeb-652f-4799-b6eb-98e9dc124151"
      },
      "execution_count": 6,
      "outputs": [
        {
          "output_type": "execute_result",
          "data": {
            "text/plain": [
              "                                           Account      Coin  Execution Price  \\\n",
              "0       0xae5eacaf9c6b9111fd53034a602c192a04e082ed      @107           7.9769   \n",
              "1       0xae5eacaf9c6b9111fd53034a602c192a04e082ed      @107           7.9800   \n",
              "2       0xae5eacaf9c6b9111fd53034a602c192a04e082ed      @107           7.9855   \n",
              "3       0xae5eacaf9c6b9111fd53034a602c192a04e082ed      @107           7.9874   \n",
              "4       0xae5eacaf9c6b9111fd53034a602c192a04e082ed      @107           7.9894   \n",
              "...                                            ...       ...              ...   \n",
              "211219  0x72743ae2822edd658c0c50608fd7c5c501b2afbd  FARTCOIN           1.1010   \n",
              "211220  0x72743ae2822edd658c0c50608fd7c5c501b2afbd  FARTCOIN           1.1010   \n",
              "211221  0x72743ae2822edd658c0c50608fd7c5c501b2afbd  FARTCOIN           1.1010   \n",
              "211222  0x72743ae2822edd658c0c50608fd7c5c501b2afbd  FARTCOIN           1.1010   \n",
              "211223  0x72743ae2822edd658c0c50608fd7c5c501b2afbd  FARTCOIN           1.1010   \n",
              "\n",
              "        Size Tokens  Size USD  Side     Timestamp IST  Start Position  \\\n",
              "0            986.87   7872.16   BUY  02-12-2024 22:50        0.000000   \n",
              "1             16.00    127.68   BUY  02-12-2024 22:50      986.524596   \n",
              "2            144.09   1150.63   BUY  02-12-2024 22:50     1002.518996   \n",
              "3            142.98   1142.04   BUY  02-12-2024 22:50     1146.558564   \n",
              "4              8.73     69.75   BUY  02-12-2024 22:50     1289.488521   \n",
              "...             ...       ...   ...               ...             ...   \n",
              "211219       382.20    420.80  SELL  25-04-2025 15:35     7546.600000   \n",
              "211220      2124.10   2338.63  SELL  25-04-2025 15:35     7164.400000   \n",
              "211221       423.40    466.16  SELL  25-04-2025 15:35     5040.300000   \n",
              "211222      3599.80   3963.38  SELL  25-04-2025 15:35     4616.900000   \n",
              "211223      1017.10   1119.83  SELL  25-04-2025 15:35     1017.100000   \n",
              "\n",
              "         Direction  Closed PnL  \\\n",
              "0              Buy      0.0000   \n",
              "1              Buy      0.0000   \n",
              "2              Buy      0.0000   \n",
              "3              Buy      0.0000   \n",
              "4              Buy      0.0000   \n",
              "...            ...         ...   \n",
              "211219  Close Long    -20.2566   \n",
              "211220  Close Long   -112.5773   \n",
              "211221  Close Long    -22.4402   \n",
              "211222  Close Long   -190.7894   \n",
              "211223  Close Long    -53.9063   \n",
              "\n",
              "                                         Transaction Hash     Order ID  \\\n",
              "0       0xec09451986a1874e3a980418412fcd0201f500c95bac...  52017706630   \n",
              "1       0xec09451986a1874e3a980418412fcd0201f500c95bac...  52017706630   \n",
              "2       0xec09451986a1874e3a980418412fcd0201f500c95bac...  52017706630   \n",
              "3       0xec09451986a1874e3a980418412fcd0201f500c95bac...  52017706630   \n",
              "4       0xec09451986a1874e3a980418412fcd0201f500c95bac...  52017706630   \n",
              "...                                                   ...          ...   \n",
              "211219  0xcd339c08dc7b615a993c0422374d8e02027400092bc2...  88803313862   \n",
              "211220  0x29e8ede2a3a37aa0eac00422374d8e02029b00ac9f3c...  88803313862   \n",
              "211221  0x0780085b0c0a943eea800422374d920204c100edf579...  88803313862   \n",
              "211222  0x349c29934913b25c89e20422374d920204cd008b8a0e...  88803313862   \n",
              "211223  0xac77fab973c455d77a670422374d9602039800f1f78c...  88803313862   \n",
              "\n",
              "        Crossed       Fee      Trade ID     Timestamp  \n",
              "0          True  0.345404  8.950000e+14  1.730000e+12  \n",
              "1          True  0.005600  4.430000e+14  1.730000e+12  \n",
              "2          True  0.050431  6.600000e+14  1.730000e+12  \n",
              "3          True  0.050043  1.080000e+15  1.730000e+12  \n",
              "4          True  0.003055  1.050000e+15  1.730000e+12  \n",
              "...         ...       ...           ...           ...  \n",
              "211219    False  0.042080  1.990000e+14  1.750000e+12  \n",
              "211220    False  0.233863  9.260000e+14  1.750000e+12  \n",
              "211221    False  0.046616  6.930000e+14  1.750000e+12  \n",
              "211222    False  0.396337  4.180000e+14  1.750000e+12  \n",
              "211223    False  0.111982  3.270000e+14  1.750000e+12  \n",
              "\n",
              "[211224 rows x 16 columns]"
            ],
            "text/html": [
              "\n",
              "  <div id=\"df-c76ad896-4c97-4e1a-a349-98446c96b239\" class=\"colab-df-container\">\n",
              "    <div>\n",
              "<style scoped>\n",
              "    .dataframe tbody tr th:only-of-type {\n",
              "        vertical-align: middle;\n",
              "    }\n",
              "\n",
              "    .dataframe tbody tr th {\n",
              "        vertical-align: top;\n",
              "    }\n",
              "\n",
              "    .dataframe thead th {\n",
              "        text-align: right;\n",
              "    }\n",
              "</style>\n",
              "<table border=\"1\" class=\"dataframe\">\n",
              "  <thead>\n",
              "    <tr style=\"text-align: right;\">\n",
              "      <th></th>\n",
              "      <th>Account</th>\n",
              "      <th>Coin</th>\n",
              "      <th>Execution Price</th>\n",
              "      <th>Size Tokens</th>\n",
              "      <th>Size USD</th>\n",
              "      <th>Side</th>\n",
              "      <th>Timestamp IST</th>\n",
              "      <th>Start Position</th>\n",
              "      <th>Direction</th>\n",
              "      <th>Closed PnL</th>\n",
              "      <th>Transaction Hash</th>\n",
              "      <th>Order ID</th>\n",
              "      <th>Crossed</th>\n",
              "      <th>Fee</th>\n",
              "      <th>Trade ID</th>\n",
              "      <th>Timestamp</th>\n",
              "    </tr>\n",
              "  </thead>\n",
              "  <tbody>\n",
              "    <tr>\n",
              "      <th>0</th>\n",
              "      <td>0xae5eacaf9c6b9111fd53034a602c192a04e082ed</td>\n",
              "      <td>@107</td>\n",
              "      <td>7.9769</td>\n",
              "      <td>986.87</td>\n",
              "      <td>7872.16</td>\n",
              "      <td>BUY</td>\n",
              "      <td>02-12-2024 22:50</td>\n",
              "      <td>0.000000</td>\n",
              "      <td>Buy</td>\n",
              "      <td>0.0000</td>\n",
              "      <td>0xec09451986a1874e3a980418412fcd0201f500c95bac...</td>\n",
              "      <td>52017706630</td>\n",
              "      <td>True</td>\n",
              "      <td>0.345404</td>\n",
              "      <td>8.950000e+14</td>\n",
              "      <td>1.730000e+12</td>\n",
              "    </tr>\n",
              "    <tr>\n",
              "      <th>1</th>\n",
              "      <td>0xae5eacaf9c6b9111fd53034a602c192a04e082ed</td>\n",
              "      <td>@107</td>\n",
              "      <td>7.9800</td>\n",
              "      <td>16.00</td>\n",
              "      <td>127.68</td>\n",
              "      <td>BUY</td>\n",
              "      <td>02-12-2024 22:50</td>\n",
              "      <td>986.524596</td>\n",
              "      <td>Buy</td>\n",
              "      <td>0.0000</td>\n",
              "      <td>0xec09451986a1874e3a980418412fcd0201f500c95bac...</td>\n",
              "      <td>52017706630</td>\n",
              "      <td>True</td>\n",
              "      <td>0.005600</td>\n",
              "      <td>4.430000e+14</td>\n",
              "      <td>1.730000e+12</td>\n",
              "    </tr>\n",
              "    <tr>\n",
              "      <th>2</th>\n",
              "      <td>0xae5eacaf9c6b9111fd53034a602c192a04e082ed</td>\n",
              "      <td>@107</td>\n",
              "      <td>7.9855</td>\n",
              "      <td>144.09</td>\n",
              "      <td>1150.63</td>\n",
              "      <td>BUY</td>\n",
              "      <td>02-12-2024 22:50</td>\n",
              "      <td>1002.518996</td>\n",
              "      <td>Buy</td>\n",
              "      <td>0.0000</td>\n",
              "      <td>0xec09451986a1874e3a980418412fcd0201f500c95bac...</td>\n",
              "      <td>52017706630</td>\n",
              "      <td>True</td>\n",
              "      <td>0.050431</td>\n",
              "      <td>6.600000e+14</td>\n",
              "      <td>1.730000e+12</td>\n",
              "    </tr>\n",
              "    <tr>\n",
              "      <th>3</th>\n",
              "      <td>0xae5eacaf9c6b9111fd53034a602c192a04e082ed</td>\n",
              "      <td>@107</td>\n",
              "      <td>7.9874</td>\n",
              "      <td>142.98</td>\n",
              "      <td>1142.04</td>\n",
              "      <td>BUY</td>\n",
              "      <td>02-12-2024 22:50</td>\n",
              "      <td>1146.558564</td>\n",
              "      <td>Buy</td>\n",
              "      <td>0.0000</td>\n",
              "      <td>0xec09451986a1874e3a980418412fcd0201f500c95bac...</td>\n",
              "      <td>52017706630</td>\n",
              "      <td>True</td>\n",
              "      <td>0.050043</td>\n",
              "      <td>1.080000e+15</td>\n",
              "      <td>1.730000e+12</td>\n",
              "    </tr>\n",
              "    <tr>\n",
              "      <th>4</th>\n",
              "      <td>0xae5eacaf9c6b9111fd53034a602c192a04e082ed</td>\n",
              "      <td>@107</td>\n",
              "      <td>7.9894</td>\n",
              "      <td>8.73</td>\n",
              "      <td>69.75</td>\n",
              "      <td>BUY</td>\n",
              "      <td>02-12-2024 22:50</td>\n",
              "      <td>1289.488521</td>\n",
              "      <td>Buy</td>\n",
              "      <td>0.0000</td>\n",
              "      <td>0xec09451986a1874e3a980418412fcd0201f500c95bac...</td>\n",
              "      <td>52017706630</td>\n",
              "      <td>True</td>\n",
              "      <td>0.003055</td>\n",
              "      <td>1.050000e+15</td>\n",
              "      <td>1.730000e+12</td>\n",
              "    </tr>\n",
              "    <tr>\n",
              "      <th>...</th>\n",
              "      <td>...</td>\n",
              "      <td>...</td>\n",
              "      <td>...</td>\n",
              "      <td>...</td>\n",
              "      <td>...</td>\n",
              "      <td>...</td>\n",
              "      <td>...</td>\n",
              "      <td>...</td>\n",
              "      <td>...</td>\n",
              "      <td>...</td>\n",
              "      <td>...</td>\n",
              "      <td>...</td>\n",
              "      <td>...</td>\n",
              "      <td>...</td>\n",
              "      <td>...</td>\n",
              "      <td>...</td>\n",
              "    </tr>\n",
              "    <tr>\n",
              "      <th>211219</th>\n",
              "      <td>0x72743ae2822edd658c0c50608fd7c5c501b2afbd</td>\n",
              "      <td>FARTCOIN</td>\n",
              "      <td>1.1010</td>\n",
              "      <td>382.20</td>\n",
              "      <td>420.80</td>\n",
              "      <td>SELL</td>\n",
              "      <td>25-04-2025 15:35</td>\n",
              "      <td>7546.600000</td>\n",
              "      <td>Close Long</td>\n",
              "      <td>-20.2566</td>\n",
              "      <td>0xcd339c08dc7b615a993c0422374d8e02027400092bc2...</td>\n",
              "      <td>88803313862</td>\n",
              "      <td>False</td>\n",
              "      <td>0.042080</td>\n",
              "      <td>1.990000e+14</td>\n",
              "      <td>1.750000e+12</td>\n",
              "    </tr>\n",
              "    <tr>\n",
              "      <th>211220</th>\n",
              "      <td>0x72743ae2822edd658c0c50608fd7c5c501b2afbd</td>\n",
              "      <td>FARTCOIN</td>\n",
              "      <td>1.1010</td>\n",
              "      <td>2124.10</td>\n",
              "      <td>2338.63</td>\n",
              "      <td>SELL</td>\n",
              "      <td>25-04-2025 15:35</td>\n",
              "      <td>7164.400000</td>\n",
              "      <td>Close Long</td>\n",
              "      <td>-112.5773</td>\n",
              "      <td>0x29e8ede2a3a37aa0eac00422374d8e02029b00ac9f3c...</td>\n",
              "      <td>88803313862</td>\n",
              "      <td>False</td>\n",
              "      <td>0.233863</td>\n",
              "      <td>9.260000e+14</td>\n",
              "      <td>1.750000e+12</td>\n",
              "    </tr>\n",
              "    <tr>\n",
              "      <th>211221</th>\n",
              "      <td>0x72743ae2822edd658c0c50608fd7c5c501b2afbd</td>\n",
              "      <td>FARTCOIN</td>\n",
              "      <td>1.1010</td>\n",
              "      <td>423.40</td>\n",
              "      <td>466.16</td>\n",
              "      <td>SELL</td>\n",
              "      <td>25-04-2025 15:35</td>\n",
              "      <td>5040.300000</td>\n",
              "      <td>Close Long</td>\n",
              "      <td>-22.4402</td>\n",
              "      <td>0x0780085b0c0a943eea800422374d920204c100edf579...</td>\n",
              "      <td>88803313862</td>\n",
              "      <td>False</td>\n",
              "      <td>0.046616</td>\n",
              "      <td>6.930000e+14</td>\n",
              "      <td>1.750000e+12</td>\n",
              "    </tr>\n",
              "    <tr>\n",
              "      <th>211222</th>\n",
              "      <td>0x72743ae2822edd658c0c50608fd7c5c501b2afbd</td>\n",
              "      <td>FARTCOIN</td>\n",
              "      <td>1.1010</td>\n",
              "      <td>3599.80</td>\n",
              "      <td>3963.38</td>\n",
              "      <td>SELL</td>\n",
              "      <td>25-04-2025 15:35</td>\n",
              "      <td>4616.900000</td>\n",
              "      <td>Close Long</td>\n",
              "      <td>-190.7894</td>\n",
              "      <td>0x349c29934913b25c89e20422374d920204cd008b8a0e...</td>\n",
              "      <td>88803313862</td>\n",
              "      <td>False</td>\n",
              "      <td>0.396337</td>\n",
              "      <td>4.180000e+14</td>\n",
              "      <td>1.750000e+12</td>\n",
              "    </tr>\n",
              "    <tr>\n",
              "      <th>211223</th>\n",
              "      <td>0x72743ae2822edd658c0c50608fd7c5c501b2afbd</td>\n",
              "      <td>FARTCOIN</td>\n",
              "      <td>1.1010</td>\n",
              "      <td>1017.10</td>\n",
              "      <td>1119.83</td>\n",
              "      <td>SELL</td>\n",
              "      <td>25-04-2025 15:35</td>\n",
              "      <td>1017.100000</td>\n",
              "      <td>Close Long</td>\n",
              "      <td>-53.9063</td>\n",
              "      <td>0xac77fab973c455d77a670422374d9602039800f1f78c...</td>\n",
              "      <td>88803313862</td>\n",
              "      <td>False</td>\n",
              "      <td>0.111982</td>\n",
              "      <td>3.270000e+14</td>\n",
              "      <td>1.750000e+12</td>\n",
              "    </tr>\n",
              "  </tbody>\n",
              "</table>\n",
              "<p>211224 rows × 16 columns</p>\n",
              "</div>\n",
              "    <div class=\"colab-df-buttons\">\n",
              "\n",
              "  <div class=\"colab-df-container\">\n",
              "    <button class=\"colab-df-convert\" onclick=\"convertToInteractive('df-c76ad896-4c97-4e1a-a349-98446c96b239')\"\n",
              "            title=\"Convert this dataframe to an interactive table.\"\n",
              "            style=\"display:none;\">\n",
              "\n",
              "  <svg xmlns=\"http://www.w3.org/2000/svg\" height=\"24px\" viewBox=\"0 -960 960 960\">\n",
              "    <path d=\"M120-120v-720h720v720H120Zm60-500h600v-160H180v160Zm220 220h160v-160H400v160Zm0 220h160v-160H400v160ZM180-400h160v-160H180v160Zm440 0h160v-160H620v160ZM180-180h160v-160H180v160Zm440 0h160v-160H620v160Z\"/>\n",
              "  </svg>\n",
              "    </button>\n",
              "\n",
              "  <style>\n",
              "    .colab-df-container {\n",
              "      display:flex;\n",
              "      gap: 12px;\n",
              "    }\n",
              "\n",
              "    .colab-df-convert {\n",
              "      background-color: #E8F0FE;\n",
              "      border: none;\n",
              "      border-radius: 50%;\n",
              "      cursor: pointer;\n",
              "      display: none;\n",
              "      fill: #1967D2;\n",
              "      height: 32px;\n",
              "      padding: 0 0 0 0;\n",
              "      width: 32px;\n",
              "    }\n",
              "\n",
              "    .colab-df-convert:hover {\n",
              "      background-color: #E2EBFA;\n",
              "      box-shadow: 0px 1px 2px rgba(60, 64, 67, 0.3), 0px 1px 3px 1px rgba(60, 64, 67, 0.15);\n",
              "      fill: #174EA6;\n",
              "    }\n",
              "\n",
              "    .colab-df-buttons div {\n",
              "      margin-bottom: 4px;\n",
              "    }\n",
              "\n",
              "    [theme=dark] .colab-df-convert {\n",
              "      background-color: #3B4455;\n",
              "      fill: #D2E3FC;\n",
              "    }\n",
              "\n",
              "    [theme=dark] .colab-df-convert:hover {\n",
              "      background-color: #434B5C;\n",
              "      box-shadow: 0px 1px 3px 1px rgba(0, 0, 0, 0.15);\n",
              "      filter: drop-shadow(0px 1px 2px rgba(0, 0, 0, 0.3));\n",
              "      fill: #FFFFFF;\n",
              "    }\n",
              "  </style>\n",
              "\n",
              "    <script>\n",
              "      const buttonEl =\n",
              "        document.querySelector('#df-c76ad896-4c97-4e1a-a349-98446c96b239 button.colab-df-convert');\n",
              "      buttonEl.style.display =\n",
              "        google.colab.kernel.accessAllowed ? 'block' : 'none';\n",
              "\n",
              "      async function convertToInteractive(key) {\n",
              "        const element = document.querySelector('#df-c76ad896-4c97-4e1a-a349-98446c96b239');\n",
              "        const dataTable =\n",
              "          await google.colab.kernel.invokeFunction('convertToInteractive',\n",
              "                                                    [key], {});\n",
              "        if (!dataTable) return;\n",
              "\n",
              "        const docLinkHtml = 'Like what you see? Visit the ' +\n",
              "          '<a target=\"_blank\" href=https://colab.research.google.com/notebooks/data_table.ipynb>data table notebook</a>'\n",
              "          + ' to learn more about interactive tables.';\n",
              "        element.innerHTML = '';\n",
              "        dataTable['output_type'] = 'display_data';\n",
              "        await google.colab.output.renderOutput(dataTable, element);\n",
              "        const docLink = document.createElement('div');\n",
              "        docLink.innerHTML = docLinkHtml;\n",
              "        element.appendChild(docLink);\n",
              "      }\n",
              "    </script>\n",
              "  </div>\n",
              "\n",
              "\n",
              "    <div id=\"df-f8f8d42e-97fb-4c33-9ac6-deeba5005c15\">\n",
              "      <button class=\"colab-df-quickchart\" onclick=\"quickchart('df-f8f8d42e-97fb-4c33-9ac6-deeba5005c15')\"\n",
              "                title=\"Suggest charts\"\n",
              "                style=\"display:none;\">\n",
              "\n",
              "<svg xmlns=\"http://www.w3.org/2000/svg\" height=\"24px\"viewBox=\"0 0 24 24\"\n",
              "     width=\"24px\">\n",
              "    <g>\n",
              "        <path d=\"M19 3H5c-1.1 0-2 .9-2 2v14c0 1.1.9 2 2 2h14c1.1 0 2-.9 2-2V5c0-1.1-.9-2-2-2zM9 17H7v-7h2v7zm4 0h-2V7h2v10zm4 0h-2v-4h2v4z\"/>\n",
              "    </g>\n",
              "</svg>\n",
              "      </button>\n",
              "\n",
              "<style>\n",
              "  .colab-df-quickchart {\n",
              "      --bg-color: #E8F0FE;\n",
              "      --fill-color: #1967D2;\n",
              "      --hover-bg-color: #E2EBFA;\n",
              "      --hover-fill-color: #174EA6;\n",
              "      --disabled-fill-color: #AAA;\n",
              "      --disabled-bg-color: #DDD;\n",
              "  }\n",
              "\n",
              "  [theme=dark] .colab-df-quickchart {\n",
              "      --bg-color: #3B4455;\n",
              "      --fill-color: #D2E3FC;\n",
              "      --hover-bg-color: #434B5C;\n",
              "      --hover-fill-color: #FFFFFF;\n",
              "      --disabled-bg-color: #3B4455;\n",
              "      --disabled-fill-color: #666;\n",
              "  }\n",
              "\n",
              "  .colab-df-quickchart {\n",
              "    background-color: var(--bg-color);\n",
              "    border: none;\n",
              "    border-radius: 50%;\n",
              "    cursor: pointer;\n",
              "    display: none;\n",
              "    fill: var(--fill-color);\n",
              "    height: 32px;\n",
              "    padding: 0;\n",
              "    width: 32px;\n",
              "  }\n",
              "\n",
              "  .colab-df-quickchart:hover {\n",
              "    background-color: var(--hover-bg-color);\n",
              "    box-shadow: 0 1px 2px rgba(60, 64, 67, 0.3), 0 1px 3px 1px rgba(60, 64, 67, 0.15);\n",
              "    fill: var(--button-hover-fill-color);\n",
              "  }\n",
              "\n",
              "  .colab-df-quickchart-complete:disabled,\n",
              "  .colab-df-quickchart-complete:disabled:hover {\n",
              "    background-color: var(--disabled-bg-color);\n",
              "    fill: var(--disabled-fill-color);\n",
              "    box-shadow: none;\n",
              "  }\n",
              "\n",
              "  .colab-df-spinner {\n",
              "    border: 2px solid var(--fill-color);\n",
              "    border-color: transparent;\n",
              "    border-bottom-color: var(--fill-color);\n",
              "    animation:\n",
              "      spin 1s steps(1) infinite;\n",
              "  }\n",
              "\n",
              "  @keyframes spin {\n",
              "    0% {\n",
              "      border-color: transparent;\n",
              "      border-bottom-color: var(--fill-color);\n",
              "      border-left-color: var(--fill-color);\n",
              "    }\n",
              "    20% {\n",
              "      border-color: transparent;\n",
              "      border-left-color: var(--fill-color);\n",
              "      border-top-color: var(--fill-color);\n",
              "    }\n",
              "    30% {\n",
              "      border-color: transparent;\n",
              "      border-left-color: var(--fill-color);\n",
              "      border-top-color: var(--fill-color);\n",
              "      border-right-color: var(--fill-color);\n",
              "    }\n",
              "    40% {\n",
              "      border-color: transparent;\n",
              "      border-right-color: var(--fill-color);\n",
              "      border-top-color: var(--fill-color);\n",
              "    }\n",
              "    60% {\n",
              "      border-color: transparent;\n",
              "      border-right-color: var(--fill-color);\n",
              "    }\n",
              "    80% {\n",
              "      border-color: transparent;\n",
              "      border-right-color: var(--fill-color);\n",
              "      border-bottom-color: var(--fill-color);\n",
              "    }\n",
              "    90% {\n",
              "      border-color: transparent;\n",
              "      border-bottom-color: var(--fill-color);\n",
              "    }\n",
              "  }\n",
              "</style>\n",
              "\n",
              "      <script>\n",
              "        async function quickchart(key) {\n",
              "          const quickchartButtonEl =\n",
              "            document.querySelector('#' + key + ' button');\n",
              "          quickchartButtonEl.disabled = true;  // To prevent multiple clicks.\n",
              "          quickchartButtonEl.classList.add('colab-df-spinner');\n",
              "          try {\n",
              "            const charts = await google.colab.kernel.invokeFunction(\n",
              "                'suggestCharts', [key], {});\n",
              "          } catch (error) {\n",
              "            console.error('Error during call to suggestCharts:', error);\n",
              "          }\n",
              "          quickchartButtonEl.classList.remove('colab-df-spinner');\n",
              "          quickchartButtonEl.classList.add('colab-df-quickchart-complete');\n",
              "        }\n",
              "        (() => {\n",
              "          let quickchartButtonEl =\n",
              "            document.querySelector('#df-f8f8d42e-97fb-4c33-9ac6-deeba5005c15 button');\n",
              "          quickchartButtonEl.style.display =\n",
              "            google.colab.kernel.accessAllowed ? 'block' : 'none';\n",
              "        })();\n",
              "      </script>\n",
              "    </div>\n",
              "\n",
              "  <div id=\"id_569bc68b-0c8e-4122-a65e-eeba4410e86a\">\n",
              "    <style>\n",
              "      .colab-df-generate {\n",
              "        background-color: #E8F0FE;\n",
              "        border: none;\n",
              "        border-radius: 50%;\n",
              "        cursor: pointer;\n",
              "        display: none;\n",
              "        fill: #1967D2;\n",
              "        height: 32px;\n",
              "        padding: 0 0 0 0;\n",
              "        width: 32px;\n",
              "      }\n",
              "\n",
              "      .colab-df-generate:hover {\n",
              "        background-color: #E2EBFA;\n",
              "        box-shadow: 0px 1px 2px rgba(60, 64, 67, 0.3), 0px 1px 3px 1px rgba(60, 64, 67, 0.15);\n",
              "        fill: #174EA6;\n",
              "      }\n",
              "\n",
              "      [theme=dark] .colab-df-generate {\n",
              "        background-color: #3B4455;\n",
              "        fill: #D2E3FC;\n",
              "      }\n",
              "\n",
              "      [theme=dark] .colab-df-generate:hover {\n",
              "        background-color: #434B5C;\n",
              "        box-shadow: 0px 1px 3px 1px rgba(0, 0, 0, 0.15);\n",
              "        filter: drop-shadow(0px 1px 2px rgba(0, 0, 0, 0.3));\n",
              "        fill: #FFFFFF;\n",
              "      }\n",
              "    </style>\n",
              "    <button class=\"colab-df-generate\" onclick=\"generateWithVariable('trades')\"\n",
              "            title=\"Generate code using this dataframe.\"\n",
              "            style=\"display:none;\">\n",
              "\n",
              "  <svg xmlns=\"http://www.w3.org/2000/svg\" height=\"24px\"viewBox=\"0 0 24 24\"\n",
              "       width=\"24px\">\n",
              "    <path d=\"M7,19H8.4L18.45,9,17,7.55,7,17.6ZM5,21V16.75L18.45,3.32a2,2,0,0,1,2.83,0l1.4,1.43a1.91,1.91,0,0,1,.58,1.4,1.91,1.91,0,0,1-.58,1.4L9.25,21ZM18.45,9,17,7.55Zm-12,3A5.31,5.31,0,0,0,4.9,8.1,5.31,5.31,0,0,0,1,6.5,5.31,5.31,0,0,0,4.9,4.9,5.31,5.31,0,0,0,6.5,1,5.31,5.31,0,0,0,8.1,4.9,5.31,5.31,0,0,0,12,6.5,5.46,5.46,0,0,0,6.5,12Z\"/>\n",
              "  </svg>\n",
              "    </button>\n",
              "    <script>\n",
              "      (() => {\n",
              "      const buttonEl =\n",
              "        document.querySelector('#id_569bc68b-0c8e-4122-a65e-eeba4410e86a button.colab-df-generate');\n",
              "      buttonEl.style.display =\n",
              "        google.colab.kernel.accessAllowed ? 'block' : 'none';\n",
              "\n",
              "      buttonEl.onclick = () => {\n",
              "        google.colab.notebook.generateWithVariable('trades');\n",
              "      }\n",
              "      })();\n",
              "    </script>\n",
              "  </div>\n",
              "\n",
              "    </div>\n",
              "  </div>\n"
            ],
            "application/vnd.google.colaboratory.intrinsic+json": {
              "type": "dataframe",
              "variable_name": "trades"
            }
          },
          "metadata": {},
          "execution_count": 6
        }
      ]
    },
    {
      "cell_type": "code",
      "source": [
        "sentiment.shape"
      ],
      "metadata": {
        "colab": {
          "base_uri": "https://localhost:8080/"
        },
        "id": "GkO6How4n6LN",
        "outputId": "51b73ad9-8bf7-48e6-e157-0a128c274c7f"
      },
      "execution_count": 7,
      "outputs": [
        {
          "output_type": "execute_result",
          "data": {
            "text/plain": [
              "(2644, 4)"
            ]
          },
          "metadata": {},
          "execution_count": 7
        }
      ]
    },
    {
      "cell_type": "code",
      "source": [
        "trades.shape"
      ],
      "metadata": {
        "colab": {
          "base_uri": "https://localhost:8080/"
        },
        "id": "tJTM-8STn6H2",
        "outputId": "082b8be6-174d-4bf0-b923-b657c9c43d83"
      },
      "execution_count": 8,
      "outputs": [
        {
          "output_type": "execute_result",
          "data": {
            "text/plain": [
              "(211224, 16)"
            ]
          },
          "metadata": {},
          "execution_count": 8
        }
      ]
    },
    {
      "cell_type": "code",
      "source": [
        "sentiment.info()"
      ],
      "metadata": {
        "colab": {
          "base_uri": "https://localhost:8080/"
        },
        "id": "QISJvWHjn6FO",
        "outputId": "d24afeb1-7c58-47ab-d324-5d275ec527a7"
      },
      "execution_count": 9,
      "outputs": [
        {
          "output_type": "stream",
          "name": "stdout",
          "text": [
            "<class 'pandas.core.frame.DataFrame'>\n",
            "RangeIndex: 2644 entries, 0 to 2643\n",
            "Data columns (total 4 columns):\n",
            " #   Column          Non-Null Count  Dtype \n",
            "---  ------          --------------  ----- \n",
            " 0   timestamp       2644 non-null   int64 \n",
            " 1   value           2644 non-null   int64 \n",
            " 2   classification  2644 non-null   object\n",
            " 3   date            2644 non-null   object\n",
            "dtypes: int64(2), object(2)\n",
            "memory usage: 82.8+ KB\n"
          ]
        }
      ]
    },
    {
      "cell_type": "code",
      "source": [
        "trades.info()"
      ],
      "metadata": {
        "colab": {
          "base_uri": "https://localhost:8080/"
        },
        "id": "FVWbuirZn6Ch",
        "outputId": "eb9d601b-729f-4fcc-f055-1c2a3cbfb187"
      },
      "execution_count": 10,
      "outputs": [
        {
          "output_type": "stream",
          "name": "stdout",
          "text": [
            "<class 'pandas.core.frame.DataFrame'>\n",
            "RangeIndex: 211224 entries, 0 to 211223\n",
            "Data columns (total 16 columns):\n",
            " #   Column            Non-Null Count   Dtype  \n",
            "---  ------            --------------   -----  \n",
            " 0   Account           211224 non-null  object \n",
            " 1   Coin              211224 non-null  object \n",
            " 2   Execution Price   211224 non-null  float64\n",
            " 3   Size Tokens       211224 non-null  float64\n",
            " 4   Size USD          211224 non-null  float64\n",
            " 5   Side              211224 non-null  object \n",
            " 6   Timestamp IST     211224 non-null  object \n",
            " 7   Start Position    211224 non-null  float64\n",
            " 8   Direction         211224 non-null  object \n",
            " 9   Closed PnL        211224 non-null  float64\n",
            " 10  Transaction Hash  211224 non-null  object \n",
            " 11  Order ID          211224 non-null  int64  \n",
            " 12  Crossed           211224 non-null  bool   \n",
            " 13  Fee               211224 non-null  float64\n",
            " 14  Trade ID          211224 non-null  float64\n",
            " 15  Timestamp         211224 non-null  float64\n",
            "dtypes: bool(1), float64(8), int64(1), object(6)\n",
            "memory usage: 24.4+ MB\n"
          ]
        }
      ]
    },
    {
      "cell_type": "code",
      "source": [
        "sentiment.duplicated().sum()"
      ],
      "metadata": {
        "colab": {
          "base_uri": "https://localhost:8080/"
        },
        "id": "j6HISED3n5_E",
        "outputId": "35027f4e-31f0-4302-a209-4e3f8b31106e"
      },
      "execution_count": 11,
      "outputs": [
        {
          "output_type": "execute_result",
          "data": {
            "text/plain": [
              "np.int64(0)"
            ]
          },
          "metadata": {},
          "execution_count": 11
        }
      ]
    },
    {
      "cell_type": "code",
      "source": [
        "trades.duplicated().sum()"
      ],
      "metadata": {
        "colab": {
          "base_uri": "https://localhost:8080/"
        },
        "id": "ij_T6Gobn58N",
        "outputId": "c8ca7ee7-8587-4a3f-ffd1-59277023d745"
      },
      "execution_count": 12,
      "outputs": [
        {
          "output_type": "execute_result",
          "data": {
            "text/plain": [
              "np.int64(0)"
            ]
          },
          "metadata": {},
          "execution_count": 12
        }
      ]
    },
    {
      "cell_type": "code",
      "source": [
        "sentiment.isnull().sum()"
      ],
      "metadata": {
        "colab": {
          "base_uri": "https://localhost:8080/",
          "height": 209
        },
        "id": "9Q-cifsSn55S",
        "outputId": "eae126c2-99f1-4928-aeb4-f5b569dc8b6f"
      },
      "execution_count": 13,
      "outputs": [
        {
          "output_type": "execute_result",
          "data": {
            "text/plain": [
              "timestamp         0\n",
              "value             0\n",
              "classification    0\n",
              "date              0\n",
              "dtype: int64"
            ],
            "text/html": [
              "<div>\n",
              "<style scoped>\n",
              "    .dataframe tbody tr th:only-of-type {\n",
              "        vertical-align: middle;\n",
              "    }\n",
              "\n",
              "    .dataframe tbody tr th {\n",
              "        vertical-align: top;\n",
              "    }\n",
              "\n",
              "    .dataframe thead th {\n",
              "        text-align: right;\n",
              "    }\n",
              "</style>\n",
              "<table border=\"1\" class=\"dataframe\">\n",
              "  <thead>\n",
              "    <tr style=\"text-align: right;\">\n",
              "      <th></th>\n",
              "      <th>0</th>\n",
              "    </tr>\n",
              "  </thead>\n",
              "  <tbody>\n",
              "    <tr>\n",
              "      <th>timestamp</th>\n",
              "      <td>0</td>\n",
              "    </tr>\n",
              "    <tr>\n",
              "      <th>value</th>\n",
              "      <td>0</td>\n",
              "    </tr>\n",
              "    <tr>\n",
              "      <th>classification</th>\n",
              "      <td>0</td>\n",
              "    </tr>\n",
              "    <tr>\n",
              "      <th>date</th>\n",
              "      <td>0</td>\n",
              "    </tr>\n",
              "  </tbody>\n",
              "</table>\n",
              "</div><br><label><b>dtype:</b> int64</label>"
            ]
          },
          "metadata": {},
          "execution_count": 13
        }
      ]
    },
    {
      "cell_type": "code",
      "source": [
        "trades.isnull().sum()"
      ],
      "metadata": {
        "colab": {
          "base_uri": "https://localhost:8080/",
          "height": 585
        },
        "id": "Qpr-913nn52K",
        "outputId": "7aa88258-40d3-44a3-d77a-88f7d9c08ce8"
      },
      "execution_count": 14,
      "outputs": [
        {
          "output_type": "execute_result",
          "data": {
            "text/plain": [
              "Account             0\n",
              "Coin                0\n",
              "Execution Price     0\n",
              "Size Tokens         0\n",
              "Size USD            0\n",
              "Side                0\n",
              "Timestamp IST       0\n",
              "Start Position      0\n",
              "Direction           0\n",
              "Closed PnL          0\n",
              "Transaction Hash    0\n",
              "Order ID            0\n",
              "Crossed             0\n",
              "Fee                 0\n",
              "Trade ID            0\n",
              "Timestamp           0\n",
              "dtype: int64"
            ],
            "text/html": [
              "<div>\n",
              "<style scoped>\n",
              "    .dataframe tbody tr th:only-of-type {\n",
              "        vertical-align: middle;\n",
              "    }\n",
              "\n",
              "    .dataframe tbody tr th {\n",
              "        vertical-align: top;\n",
              "    }\n",
              "\n",
              "    .dataframe thead th {\n",
              "        text-align: right;\n",
              "    }\n",
              "</style>\n",
              "<table border=\"1\" class=\"dataframe\">\n",
              "  <thead>\n",
              "    <tr style=\"text-align: right;\">\n",
              "      <th></th>\n",
              "      <th>0</th>\n",
              "    </tr>\n",
              "  </thead>\n",
              "  <tbody>\n",
              "    <tr>\n",
              "      <th>Account</th>\n",
              "      <td>0</td>\n",
              "    </tr>\n",
              "    <tr>\n",
              "      <th>Coin</th>\n",
              "      <td>0</td>\n",
              "    </tr>\n",
              "    <tr>\n",
              "      <th>Execution Price</th>\n",
              "      <td>0</td>\n",
              "    </tr>\n",
              "    <tr>\n",
              "      <th>Size Tokens</th>\n",
              "      <td>0</td>\n",
              "    </tr>\n",
              "    <tr>\n",
              "      <th>Size USD</th>\n",
              "      <td>0</td>\n",
              "    </tr>\n",
              "    <tr>\n",
              "      <th>Side</th>\n",
              "      <td>0</td>\n",
              "    </tr>\n",
              "    <tr>\n",
              "      <th>Timestamp IST</th>\n",
              "      <td>0</td>\n",
              "    </tr>\n",
              "    <tr>\n",
              "      <th>Start Position</th>\n",
              "      <td>0</td>\n",
              "    </tr>\n",
              "    <tr>\n",
              "      <th>Direction</th>\n",
              "      <td>0</td>\n",
              "    </tr>\n",
              "    <tr>\n",
              "      <th>Closed PnL</th>\n",
              "      <td>0</td>\n",
              "    </tr>\n",
              "    <tr>\n",
              "      <th>Transaction Hash</th>\n",
              "      <td>0</td>\n",
              "    </tr>\n",
              "    <tr>\n",
              "      <th>Order ID</th>\n",
              "      <td>0</td>\n",
              "    </tr>\n",
              "    <tr>\n",
              "      <th>Crossed</th>\n",
              "      <td>0</td>\n",
              "    </tr>\n",
              "    <tr>\n",
              "      <th>Fee</th>\n",
              "      <td>0</td>\n",
              "    </tr>\n",
              "    <tr>\n",
              "      <th>Trade ID</th>\n",
              "      <td>0</td>\n",
              "    </tr>\n",
              "    <tr>\n",
              "      <th>Timestamp</th>\n",
              "      <td>0</td>\n",
              "    </tr>\n",
              "  </tbody>\n",
              "</table>\n",
              "</div><br><label><b>dtype:</b> int64</label>"
            ]
          },
          "metadata": {},
          "execution_count": 14
        }
      ]
    },
    {
      "cell_type": "code",
      "source": [
        "# Convert Date to datetime\n",
        "sentiment[\"date\"] = pd.to_datetime(sentiment[\"date\"]).dt.date\n",
        "\n",
        "# Normalize classification labels\n",
        "sentiment[\"classification\"] = sentiment[\"classification\"].str.strip().str.lower()"
      ],
      "metadata": {
        "id": "YDPHCk0bn5zT"
      },
      "execution_count": 17,
      "outputs": []
    },
    {
      "cell_type": "code",
      "source": [
        "trades[\"Timestamp IST\"] = pd.to_datetime(trades[\"Timestamp IST\"], errors=\"coerce\", utc=True)\n",
        "\n",
        "# Extract date for joining\n",
        "trades[\"date\"] = trades[\"Timestamp IST\"].dt.date"
      ],
      "metadata": {
        "id": "ZQMI148Zn5wW"
      },
      "execution_count": 20,
      "outputs": []
    },
    {
      "cell_type": "code",
      "source": [
        "merged = trades.merge(sentiment, left_on=\"date\", right_on=\"date\", how=\"left\")\n",
        "\n",
        "# Drop duplicate column\n",
        "merged = merged.drop(columns=[\"date\"])\n",
        "\n",
        "# Forward/backward fill if sentiment missing on some dates\n",
        "merged[\"classification\"] = merged[\"classification\"].fillna(method=\"ffill\").fillna(method=\"bfill\")\n",
        "\n",
        "merged.head()"
      ],
      "metadata": {
        "colab": {
          "base_uri": "https://localhost:8080/",
          "height": 366
        },
        "id": "dautmJTWsCqh",
        "outputId": "f2b3ab83-9ec5-4679-c2ae-4af556d20a2c"
      },
      "execution_count": 22,
      "outputs": [
        {
          "output_type": "stream",
          "name": "stderr",
          "text": [
            "/tmp/ipython-input-2635027398.py:7: FutureWarning: Series.fillna with 'method' is deprecated and will raise in a future version. Use obj.ffill() or obj.bfill() instead.\n",
            "  merged[\"classification\"] = merged[\"classification\"].fillna(method=\"ffill\").fillna(method=\"bfill\")\n"
          ]
        },
        {
          "output_type": "execute_result",
          "data": {
            "text/plain": [
              "                                      Account  Coin  Execution Price  \\\n",
              "0  0xae5eacaf9c6b9111fd53034a602c192a04e082ed  @107           7.9769   \n",
              "1  0xae5eacaf9c6b9111fd53034a602c192a04e082ed  @107           7.9800   \n",
              "2  0xae5eacaf9c6b9111fd53034a602c192a04e082ed  @107           7.9855   \n",
              "3  0xae5eacaf9c6b9111fd53034a602c192a04e082ed  @107           7.9874   \n",
              "4  0xae5eacaf9c6b9111fd53034a602c192a04e082ed  @107           7.9894   \n",
              "\n",
              "   Size Tokens  Size USD Side             Timestamp IST  Start Position  \\\n",
              "0       986.87   7872.16  BUY 2024-02-12 22:50:00+00:00        0.000000   \n",
              "1        16.00    127.68  BUY 2024-02-12 22:50:00+00:00      986.524596   \n",
              "2       144.09   1150.63  BUY 2024-02-12 22:50:00+00:00     1002.518996   \n",
              "3       142.98   1142.04  BUY 2024-02-12 22:50:00+00:00     1146.558564   \n",
              "4         8.73     69.75  BUY 2024-02-12 22:50:00+00:00     1289.488521   \n",
              "\n",
              "  Direction  Closed PnL                                   Transaction Hash  \\\n",
              "0       Buy         0.0  0xec09451986a1874e3a980418412fcd0201f500c95bac...   \n",
              "1       Buy         0.0  0xec09451986a1874e3a980418412fcd0201f500c95bac...   \n",
              "2       Buy         0.0  0xec09451986a1874e3a980418412fcd0201f500c95bac...   \n",
              "3       Buy         0.0  0xec09451986a1874e3a980418412fcd0201f500c95bac...   \n",
              "4       Buy         0.0  0xec09451986a1874e3a980418412fcd0201f500c95bac...   \n",
              "\n",
              "      Order ID  Crossed       Fee      Trade ID     Timestamp     timestamp  \\\n",
              "0  52017706630     True  0.345404  8.950000e+14  1.730000e+12  1.707716e+09   \n",
              "1  52017706630     True  0.005600  4.430000e+14  1.730000e+12  1.707716e+09   \n",
              "2  52017706630     True  0.050431  6.600000e+14  1.730000e+12  1.707716e+09   \n",
              "3  52017706630     True  0.050043  1.080000e+15  1.730000e+12  1.707716e+09   \n",
              "4  52017706630     True  0.003055  1.050000e+15  1.730000e+12  1.707716e+09   \n",
              "\n",
              "   value classification  \n",
              "0   70.0          greed  \n",
              "1   70.0          greed  \n",
              "2   70.0          greed  \n",
              "3   70.0          greed  \n",
              "4   70.0          greed  "
            ],
            "text/html": [
              "\n",
              "  <div id=\"df-ef9ef1ed-b6c7-46e7-8295-29b4b1581cb2\" class=\"colab-df-container\">\n",
              "    <div>\n",
              "<style scoped>\n",
              "    .dataframe tbody tr th:only-of-type {\n",
              "        vertical-align: middle;\n",
              "    }\n",
              "\n",
              "    .dataframe tbody tr th {\n",
              "        vertical-align: top;\n",
              "    }\n",
              "\n",
              "    .dataframe thead th {\n",
              "        text-align: right;\n",
              "    }\n",
              "</style>\n",
              "<table border=\"1\" class=\"dataframe\">\n",
              "  <thead>\n",
              "    <tr style=\"text-align: right;\">\n",
              "      <th></th>\n",
              "      <th>Account</th>\n",
              "      <th>Coin</th>\n",
              "      <th>Execution Price</th>\n",
              "      <th>Size Tokens</th>\n",
              "      <th>Size USD</th>\n",
              "      <th>Side</th>\n",
              "      <th>Timestamp IST</th>\n",
              "      <th>Start Position</th>\n",
              "      <th>Direction</th>\n",
              "      <th>Closed PnL</th>\n",
              "      <th>Transaction Hash</th>\n",
              "      <th>Order ID</th>\n",
              "      <th>Crossed</th>\n",
              "      <th>Fee</th>\n",
              "      <th>Trade ID</th>\n",
              "      <th>Timestamp</th>\n",
              "      <th>timestamp</th>\n",
              "      <th>value</th>\n",
              "      <th>classification</th>\n",
              "    </tr>\n",
              "  </thead>\n",
              "  <tbody>\n",
              "    <tr>\n",
              "      <th>0</th>\n",
              "      <td>0xae5eacaf9c6b9111fd53034a602c192a04e082ed</td>\n",
              "      <td>@107</td>\n",
              "      <td>7.9769</td>\n",
              "      <td>986.87</td>\n",
              "      <td>7872.16</td>\n",
              "      <td>BUY</td>\n",
              "      <td>2024-02-12 22:50:00+00:00</td>\n",
              "      <td>0.000000</td>\n",
              "      <td>Buy</td>\n",
              "      <td>0.0</td>\n",
              "      <td>0xec09451986a1874e3a980418412fcd0201f500c95bac...</td>\n",
              "      <td>52017706630</td>\n",
              "      <td>True</td>\n",
              "      <td>0.345404</td>\n",
              "      <td>8.950000e+14</td>\n",
              "      <td>1.730000e+12</td>\n",
              "      <td>1.707716e+09</td>\n",
              "      <td>70.0</td>\n",
              "      <td>greed</td>\n",
              "    </tr>\n",
              "    <tr>\n",
              "      <th>1</th>\n",
              "      <td>0xae5eacaf9c6b9111fd53034a602c192a04e082ed</td>\n",
              "      <td>@107</td>\n",
              "      <td>7.9800</td>\n",
              "      <td>16.00</td>\n",
              "      <td>127.68</td>\n",
              "      <td>BUY</td>\n",
              "      <td>2024-02-12 22:50:00+00:00</td>\n",
              "      <td>986.524596</td>\n",
              "      <td>Buy</td>\n",
              "      <td>0.0</td>\n",
              "      <td>0xec09451986a1874e3a980418412fcd0201f500c95bac...</td>\n",
              "      <td>52017706630</td>\n",
              "      <td>True</td>\n",
              "      <td>0.005600</td>\n",
              "      <td>4.430000e+14</td>\n",
              "      <td>1.730000e+12</td>\n",
              "      <td>1.707716e+09</td>\n",
              "      <td>70.0</td>\n",
              "      <td>greed</td>\n",
              "    </tr>\n",
              "    <tr>\n",
              "      <th>2</th>\n",
              "      <td>0xae5eacaf9c6b9111fd53034a602c192a04e082ed</td>\n",
              "      <td>@107</td>\n",
              "      <td>7.9855</td>\n",
              "      <td>144.09</td>\n",
              "      <td>1150.63</td>\n",
              "      <td>BUY</td>\n",
              "      <td>2024-02-12 22:50:00+00:00</td>\n",
              "      <td>1002.518996</td>\n",
              "      <td>Buy</td>\n",
              "      <td>0.0</td>\n",
              "      <td>0xec09451986a1874e3a980418412fcd0201f500c95bac...</td>\n",
              "      <td>52017706630</td>\n",
              "      <td>True</td>\n",
              "      <td>0.050431</td>\n",
              "      <td>6.600000e+14</td>\n",
              "      <td>1.730000e+12</td>\n",
              "      <td>1.707716e+09</td>\n",
              "      <td>70.0</td>\n",
              "      <td>greed</td>\n",
              "    </tr>\n",
              "    <tr>\n",
              "      <th>3</th>\n",
              "      <td>0xae5eacaf9c6b9111fd53034a602c192a04e082ed</td>\n",
              "      <td>@107</td>\n",
              "      <td>7.9874</td>\n",
              "      <td>142.98</td>\n",
              "      <td>1142.04</td>\n",
              "      <td>BUY</td>\n",
              "      <td>2024-02-12 22:50:00+00:00</td>\n",
              "      <td>1146.558564</td>\n",
              "      <td>Buy</td>\n",
              "      <td>0.0</td>\n",
              "      <td>0xec09451986a1874e3a980418412fcd0201f500c95bac...</td>\n",
              "      <td>52017706630</td>\n",
              "      <td>True</td>\n",
              "      <td>0.050043</td>\n",
              "      <td>1.080000e+15</td>\n",
              "      <td>1.730000e+12</td>\n",
              "      <td>1.707716e+09</td>\n",
              "      <td>70.0</td>\n",
              "      <td>greed</td>\n",
              "    </tr>\n",
              "    <tr>\n",
              "      <th>4</th>\n",
              "      <td>0xae5eacaf9c6b9111fd53034a602c192a04e082ed</td>\n",
              "      <td>@107</td>\n",
              "      <td>7.9894</td>\n",
              "      <td>8.73</td>\n",
              "      <td>69.75</td>\n",
              "      <td>BUY</td>\n",
              "      <td>2024-02-12 22:50:00+00:00</td>\n",
              "      <td>1289.488521</td>\n",
              "      <td>Buy</td>\n",
              "      <td>0.0</td>\n",
              "      <td>0xec09451986a1874e3a980418412fcd0201f500c95bac...</td>\n",
              "      <td>52017706630</td>\n",
              "      <td>True</td>\n",
              "      <td>0.003055</td>\n",
              "      <td>1.050000e+15</td>\n",
              "      <td>1.730000e+12</td>\n",
              "      <td>1.707716e+09</td>\n",
              "      <td>70.0</td>\n",
              "      <td>greed</td>\n",
              "    </tr>\n",
              "  </tbody>\n",
              "</table>\n",
              "</div>\n",
              "    <div class=\"colab-df-buttons\">\n",
              "\n",
              "  <div class=\"colab-df-container\">\n",
              "    <button class=\"colab-df-convert\" onclick=\"convertToInteractive('df-ef9ef1ed-b6c7-46e7-8295-29b4b1581cb2')\"\n",
              "            title=\"Convert this dataframe to an interactive table.\"\n",
              "            style=\"display:none;\">\n",
              "\n",
              "  <svg xmlns=\"http://www.w3.org/2000/svg\" height=\"24px\" viewBox=\"0 -960 960 960\">\n",
              "    <path d=\"M120-120v-720h720v720H120Zm60-500h600v-160H180v160Zm220 220h160v-160H400v160Zm0 220h160v-160H400v160ZM180-400h160v-160H180v160Zm440 0h160v-160H620v160ZM180-180h160v-160H180v160Zm440 0h160v-160H620v160Z\"/>\n",
              "  </svg>\n",
              "    </button>\n",
              "\n",
              "  <style>\n",
              "    .colab-df-container {\n",
              "      display:flex;\n",
              "      gap: 12px;\n",
              "    }\n",
              "\n",
              "    .colab-df-convert {\n",
              "      background-color: #E8F0FE;\n",
              "      border: none;\n",
              "      border-radius: 50%;\n",
              "      cursor: pointer;\n",
              "      display: none;\n",
              "      fill: #1967D2;\n",
              "      height: 32px;\n",
              "      padding: 0 0 0 0;\n",
              "      width: 32px;\n",
              "    }\n",
              "\n",
              "    .colab-df-convert:hover {\n",
              "      background-color: #E2EBFA;\n",
              "      box-shadow: 0px 1px 2px rgba(60, 64, 67, 0.3), 0px 1px 3px 1px rgba(60, 64, 67, 0.15);\n",
              "      fill: #174EA6;\n",
              "    }\n",
              "\n",
              "    .colab-df-buttons div {\n",
              "      margin-bottom: 4px;\n",
              "    }\n",
              "\n",
              "    [theme=dark] .colab-df-convert {\n",
              "      background-color: #3B4455;\n",
              "      fill: #D2E3FC;\n",
              "    }\n",
              "\n",
              "    [theme=dark] .colab-df-convert:hover {\n",
              "      background-color: #434B5C;\n",
              "      box-shadow: 0px 1px 3px 1px rgba(0, 0, 0, 0.15);\n",
              "      filter: drop-shadow(0px 1px 2px rgba(0, 0, 0, 0.3));\n",
              "      fill: #FFFFFF;\n",
              "    }\n",
              "  </style>\n",
              "\n",
              "    <script>\n",
              "      const buttonEl =\n",
              "        document.querySelector('#df-ef9ef1ed-b6c7-46e7-8295-29b4b1581cb2 button.colab-df-convert');\n",
              "      buttonEl.style.display =\n",
              "        google.colab.kernel.accessAllowed ? 'block' : 'none';\n",
              "\n",
              "      async function convertToInteractive(key) {\n",
              "        const element = document.querySelector('#df-ef9ef1ed-b6c7-46e7-8295-29b4b1581cb2');\n",
              "        const dataTable =\n",
              "          await google.colab.kernel.invokeFunction('convertToInteractive',\n",
              "                                                    [key], {});\n",
              "        if (!dataTable) return;\n",
              "\n",
              "        const docLinkHtml = 'Like what you see? Visit the ' +\n",
              "          '<a target=\"_blank\" href=https://colab.research.google.com/notebooks/data_table.ipynb>data table notebook</a>'\n",
              "          + ' to learn more about interactive tables.';\n",
              "        element.innerHTML = '';\n",
              "        dataTable['output_type'] = 'display_data';\n",
              "        await google.colab.output.renderOutput(dataTable, element);\n",
              "        const docLink = document.createElement('div');\n",
              "        docLink.innerHTML = docLinkHtml;\n",
              "        element.appendChild(docLink);\n",
              "      }\n",
              "    </script>\n",
              "  </div>\n",
              "\n",
              "\n",
              "    <div id=\"df-2d476a8d-5ca4-4025-8e6a-9a84a2780dec\">\n",
              "      <button class=\"colab-df-quickchart\" onclick=\"quickchart('df-2d476a8d-5ca4-4025-8e6a-9a84a2780dec')\"\n",
              "                title=\"Suggest charts\"\n",
              "                style=\"display:none;\">\n",
              "\n",
              "<svg xmlns=\"http://www.w3.org/2000/svg\" height=\"24px\"viewBox=\"0 0 24 24\"\n",
              "     width=\"24px\">\n",
              "    <g>\n",
              "        <path d=\"M19 3H5c-1.1 0-2 .9-2 2v14c0 1.1.9 2 2 2h14c1.1 0 2-.9 2-2V5c0-1.1-.9-2-2-2zM9 17H7v-7h2v7zm4 0h-2V7h2v10zm4 0h-2v-4h2v4z\"/>\n",
              "    </g>\n",
              "</svg>\n",
              "      </button>\n",
              "\n",
              "<style>\n",
              "  .colab-df-quickchart {\n",
              "      --bg-color: #E8F0FE;\n",
              "      --fill-color: #1967D2;\n",
              "      --hover-bg-color: #E2EBFA;\n",
              "      --hover-fill-color: #174EA6;\n",
              "      --disabled-fill-color: #AAA;\n",
              "      --disabled-bg-color: #DDD;\n",
              "  }\n",
              "\n",
              "  [theme=dark] .colab-df-quickchart {\n",
              "      --bg-color: #3B4455;\n",
              "      --fill-color: #D2E3FC;\n",
              "      --hover-bg-color: #434B5C;\n",
              "      --hover-fill-color: #FFFFFF;\n",
              "      --disabled-bg-color: #3B4455;\n",
              "      --disabled-fill-color: #666;\n",
              "  }\n",
              "\n",
              "  .colab-df-quickchart {\n",
              "    background-color: var(--bg-color);\n",
              "    border: none;\n",
              "    border-radius: 50%;\n",
              "    cursor: pointer;\n",
              "    display: none;\n",
              "    fill: var(--fill-color);\n",
              "    height: 32px;\n",
              "    padding: 0;\n",
              "    width: 32px;\n",
              "  }\n",
              "\n",
              "  .colab-df-quickchart:hover {\n",
              "    background-color: var(--hover-bg-color);\n",
              "    box-shadow: 0 1px 2px rgba(60, 64, 67, 0.3), 0 1px 3px 1px rgba(60, 64, 67, 0.15);\n",
              "    fill: var(--button-hover-fill-color);\n",
              "  }\n",
              "\n",
              "  .colab-df-quickchart-complete:disabled,\n",
              "  .colab-df-quickchart-complete:disabled:hover {\n",
              "    background-color: var(--disabled-bg-color);\n",
              "    fill: var(--disabled-fill-color);\n",
              "    box-shadow: none;\n",
              "  }\n",
              "\n",
              "  .colab-df-spinner {\n",
              "    border: 2px solid var(--fill-color);\n",
              "    border-color: transparent;\n",
              "    border-bottom-color: var(--fill-color);\n",
              "    animation:\n",
              "      spin 1s steps(1) infinite;\n",
              "  }\n",
              "\n",
              "  @keyframes spin {\n",
              "    0% {\n",
              "      border-color: transparent;\n",
              "      border-bottom-color: var(--fill-color);\n",
              "      border-left-color: var(--fill-color);\n",
              "    }\n",
              "    20% {\n",
              "      border-color: transparent;\n",
              "      border-left-color: var(--fill-color);\n",
              "      border-top-color: var(--fill-color);\n",
              "    }\n",
              "    30% {\n",
              "      border-color: transparent;\n",
              "      border-left-color: var(--fill-color);\n",
              "      border-top-color: var(--fill-color);\n",
              "      border-right-color: var(--fill-color);\n",
              "    }\n",
              "    40% {\n",
              "      border-color: transparent;\n",
              "      border-right-color: var(--fill-color);\n",
              "      border-top-color: var(--fill-color);\n",
              "    }\n",
              "    60% {\n",
              "      border-color: transparent;\n",
              "      border-right-color: var(--fill-color);\n",
              "    }\n",
              "    80% {\n",
              "      border-color: transparent;\n",
              "      border-right-color: var(--fill-color);\n",
              "      border-bottom-color: var(--fill-color);\n",
              "    }\n",
              "    90% {\n",
              "      border-color: transparent;\n",
              "      border-bottom-color: var(--fill-color);\n",
              "    }\n",
              "  }\n",
              "</style>\n",
              "\n",
              "      <script>\n",
              "        async function quickchart(key) {\n",
              "          const quickchartButtonEl =\n",
              "            document.querySelector('#' + key + ' button');\n",
              "          quickchartButtonEl.disabled = true;  // To prevent multiple clicks.\n",
              "          quickchartButtonEl.classList.add('colab-df-spinner');\n",
              "          try {\n",
              "            const charts = await google.colab.kernel.invokeFunction(\n",
              "                'suggestCharts', [key], {});\n",
              "          } catch (error) {\n",
              "            console.error('Error during call to suggestCharts:', error);\n",
              "          }\n",
              "          quickchartButtonEl.classList.remove('colab-df-spinner');\n",
              "          quickchartButtonEl.classList.add('colab-df-quickchart-complete');\n",
              "        }\n",
              "        (() => {\n",
              "          let quickchartButtonEl =\n",
              "            document.querySelector('#df-2d476a8d-5ca4-4025-8e6a-9a84a2780dec button');\n",
              "          quickchartButtonEl.style.display =\n",
              "            google.colab.kernel.accessAllowed ? 'block' : 'none';\n",
              "        })();\n",
              "      </script>\n",
              "    </div>\n",
              "\n",
              "    </div>\n",
              "  </div>\n"
            ],
            "application/vnd.google.colaboratory.intrinsic+json": {
              "type": "dataframe",
              "variable_name": "merged"
            }
          },
          "metadata": {},
          "execution_count": 22
        }
      ]
    },
    {
      "cell_type": "code",
      "source": [
        "merged.columns"
      ],
      "metadata": {
        "colab": {
          "base_uri": "https://localhost:8080/"
        },
        "id": "X9D7yQ29sCnJ",
        "outputId": "0457f83f-805a-4028-a302-1dd7ba160325"
      },
      "execution_count": 28,
      "outputs": [
        {
          "output_type": "execute_result",
          "data": {
            "text/plain": [
              "Index(['Account', 'Coin', 'Execution Price', 'Size Tokens', 'Size USD', 'Side',\n",
              "       'Timestamp IST', 'Start Position', 'Direction', 'Closed PnL',\n",
              "       'Transaction Hash', 'Order ID', 'Crossed', 'Fee', 'Trade ID',\n",
              "       'Timestamp', 'timestamp', 'value', 'classification'],\n",
              "      dtype='object')"
            ]
          },
          "metadata": {},
          "execution_count": 28
        }
      ]
    },
    {
      "cell_type": "code",
      "source": [
        "# Assume closedPnL column exists in trades\n",
        "analysis = merged.groupby(\"classification\")[\"Closed PnL\"].agg([\"mean\",\"median\",\"count\",\"sum\"])\n",
        "print(analysis)"
      ],
      "metadata": {
        "colab": {
          "base_uri": "https://localhost:8080/"
        },
        "id": "1fNUGQXGsCky",
        "outputId": "2c6a5221-2394-45f0-c6de-a01e89fcb0b7"
      },
      "execution_count": 29,
      "outputs": [
        {
          "output_type": "stream",
          "name": "stdout",
          "text": [
            "                     mean  median  count           sum\n",
            "classification                                        \n",
            "extreme fear    35.493854     0.0  17191  6.101749e+05\n",
            "extreme greed   95.377129     0.0  30931  2.950110e+06\n",
            "fear            46.030630     0.0  89909  4.138568e+06\n",
            "greed           39.997999     0.0  57581  2.303125e+06\n",
            "neutral         18.894528     0.0  15612  2.949814e+05\n"
          ]
        }
      ]
    },
    {
      "cell_type": "code",
      "source": [
        "import os\n",
        "\n",
        "# Create required directories\n",
        "os.makedirs(\"csv_files\", exist_ok=True)\n",
        "os.makedirs(\"outputs\", exist_ok=True)"
      ],
      "metadata": {
        "id": "XiRLllryu8n2"
      },
      "execution_count": 31,
      "outputs": []
    },
    {
      "cell_type": "code",
      "source": [
        "trades.to_csv(\"csv_files/trades_cleaned.csv\", index=False)\n",
        "sentiment.to_csv(\"csv_files/sentiment_cleaned.csv\", index=False)\n",
        "merged.to_csv(\"csv_files/merged_data.csv\", index=False)\n"
      ],
      "metadata": {
        "id": "r9RTVdR6sCiP"
      },
      "execution_count": 32,
      "outputs": []
    },
    {
      "cell_type": "code",
      "source": [
        "merged.columns\n"
      ],
      "metadata": {
        "colab": {
          "base_uri": "https://localhost:8080/"
        },
        "id": "Tv724L05wZAo",
        "outputId": "e6022fba-39d5-4003-9581-e0bebd3c8150"
      },
      "execution_count": 36,
      "outputs": [
        {
          "output_type": "execute_result",
          "data": {
            "text/plain": [
              "Index(['Account', 'Coin', 'Execution Price', 'Size Tokens', 'Size USD', 'Side',\n",
              "       'Timestamp IST', 'Start Position', 'Direction', 'Closed PnL',\n",
              "       'Transaction Hash', 'Order ID', 'Crossed', 'Fee', 'Trade ID',\n",
              "       'Timestamp', 'timestamp', 'value', 'classification'],\n",
              "      dtype='object')"
            ]
          },
          "metadata": {},
          "execution_count": 36
        }
      ]
    },
    {
      "cell_type": "code",
      "source": [
        "import matplotlib.pyplot as plt"
      ],
      "metadata": {
        "id": "CTBfoa5xsCgB"
      },
      "execution_count": 33,
      "outputs": []
    },
    {
      "cell_type": "code",
      "source": [
        "import seaborn as sns"
      ],
      "metadata": {
        "id": "amcCH4qdy_9L"
      },
      "execution_count": 52,
      "outputs": []
    },
    {
      "cell_type": "code",
      "source": [
        "merged.columns = merged.columns.str.strip().str.lower()\n",
        "print(merged.columns.tolist())"
      ],
      "metadata": {
        "colab": {
          "base_uri": "https://localhost:8080/"
        },
        "id": "RCfFYOmRsCQz",
        "outputId": "7fa929b9-9965-4509-cee1-b3e7f895efdb"
      },
      "execution_count": 41,
      "outputs": [
        {
          "output_type": "stream",
          "name": "stdout",
          "text": [
            "['account', 'coin', 'execution price', 'size tokens', 'size usd', 'side', 'timestamp ist', 'start position', 'direction', 'closed pnl', 'transaction hash', 'order id', 'crossed', 'fee', 'trade id', 'timestamp', 'timestamp', 'value', 'classification']\n"
          ]
        }
      ]
    },
    {
      "cell_type": "code",
      "source": [
        "merged.columns"
      ],
      "metadata": {
        "colab": {
          "base_uri": "https://localhost:8080/"
        },
        "id": "8Vi1U1vcsCN7",
        "outputId": "73d0a369-db90-4b44-a557-a7efb2136dde"
      },
      "execution_count": 42,
      "outputs": [
        {
          "output_type": "execute_result",
          "data": {
            "text/plain": [
              "Index(['account', 'coin', 'execution price', 'size tokens', 'size usd', 'side',\n",
              "       'timestamp ist', 'start position', 'direction', 'closed pnl',\n",
              "       'transaction hash', 'order id', 'crossed', 'fee', 'trade id',\n",
              "       'timestamp', 'timestamp', 'value', 'classification'],\n",
              "      dtype='object')"
            ]
          },
          "metadata": {},
          "execution_count": 42
        }
      ]
    },
    {
      "cell_type": "code",
      "source": [
        "# Boxplot: PnL by Sentiment\n",
        "plt.figure()\n",
        "merged.boxplot(column=\"closed pnl\", by=\"classification\", showfliers=False)\n",
        "plt.title(\"PnL by Market Sentiment\")\n",
        "plt.suptitle(\"\")\n",
        "plt.ylabel(\"Closed PnL\")\n",
        "plt.savefig(\"outputs/pnl_boxplot.png\", dpi=300)"
      ],
      "metadata": {
        "colab": {
          "base_uri": "https://localhost:8080/",
          "height": 480
        },
        "id": "XgygylFnn5tX",
        "outputId": "04e9a2cd-03a1-4038-924f-c3ce107dcf3e"
      },
      "execution_count": 47,
      "outputs": [
        {
          "output_type": "display_data",
          "data": {
            "text/plain": [
              "<Figure size 640x480 with 0 Axes>"
            ]
          },
          "metadata": {}
        },
        {
          "output_type": "display_data",
          "data": {
            "text/plain": [
              "<Figure size 640x480 with 1 Axes>"
            ],
            "image/png": "[encoded data removed]"
          },
          "metadata": {}
        }
      ]
    },
    {
      "cell_type": "code",
      "source": [
        "# Win rate by sentiment\n",
        "merged[\"is_profitable\"] = (merged[\"closed pnl\"] > 0).astype(int)\n",
        "win_rate = merged.groupby(\"classification\")[\"is_profitable\"].mean()\n",
        "plt.figure()\n",
        "win_rate.plot(kind=\"bar\", title=\"Win Rate by Sentiment\")\n",
        "plt.ylabel(\"Win Rate\")\n",
        "plt.savefig(\"outputs/winrate_bar.png\", dpi=300)\n"
      ],
      "metadata": {
        "colab": {
          "base_uri": "https://localhost:8080/",
          "height": 560
        },
        "id": "WCW54kO7n5qe",
        "outputId": "47558164-e693-4422-8931-5a3fad721d7e"
      },
      "execution_count": 48,
      "outputs": [
        {
          "output_type": "display_data",
          "data": {
            "text/plain": [
              "<Figure size 640x480 with 1 Axes>"
            ],
            "image/png": "[encoded data removed]"
          },
          "metadata": {}
        }
      ]
    },
    {
      "cell_type": "code",
      "source": [
        "# Distribution of PnL\n",
        "plt.figure()\n",
        "merged[\"closed pnl\"].hist(bins=50)\n",
        "plt.title(\"Distribution of Closed PnL\")\n",
        "plt.xlabel(\"Closed PnL\")\n",
        "plt.ylabel(\"Frequency\")\n",
        "plt.savefig(\"outputs/pnl_distribution.png\", dpi=300)\n",
        "\n",
        "print(\"✔️ Graphs saved inside outputs/ folder\")"
      ],
      "metadata": {
        "colab": {
          "base_uri": "https://localhost:8080/",
          "height": 490
        },
        "id": "t4cLLu4hyOKv",
        "outputId": "d34a67d8-84e4-4694-f075-df5ad8ea88a4"
      },
      "execution_count": 49,
      "outputs": [
        {
          "output_type": "stream",
          "name": "stdout",
          "text": [
            "✔️ Graphs saved inside outputs/ folder\n"
          ]
        },
        {
          "output_type": "display_data",
          "data": {
            "text/plain": [
              "<Figure size 640x480 with 1 Axes>"
            ],
            "image/png": "[encoded data removed]"
          },
          "metadata": {}
        }
      ]
    },
    {
      "cell_type": "markdown",
      "source": [
        "2. Average Trade Size vs Sentiment"
      ],
      "metadata": {
        "id": "Ou8Oh3W2yycJ"
      }
    },
    {
      "cell_type": "code",
      "source": [
        "avg_size = merged.groupby(\"classification\")[\"size usd\"].mean().reset_index()\n",
        "\n",
        "plt.figure(figsize=(8,6))\n",
        "sns.barplot(x=\"classification\", y=\"size usd\", data=avg_size, palette=\"viridis\")\n",
        "plt.title(\"Average Trade Size by Market Sentiment\")\n",
        "plt.xlabel(\"Market Sentiment\")\n",
        "plt.ylabel(\"Avg Trade Size (USD)\")\n",
        "plt.savefig(\"outputs/avg_trade_size_by_sentiment.png\", dpi=300)"
      ],
      "metadata": {
        "colab": {
          "base_uri": "https://localhost:8080/",
          "height": 655
        },
        "id": "BeFm8YUfyOEo",
        "outputId": "f7cd1630-5d25-4894-b97c-5e4dc224cbbc"
      },
      "execution_count": 56,
      "outputs": [
        {
          "output_type": "stream",
          "name": "stderr",
          "text": [
            "/tmp/ipython-input-2075444771.py:4: FutureWarning: \n",
            "\n",
            "Passing `palette` without assigning `hue` is deprecated and will be removed in v0.14.0. Assign the `x` variable to `hue` and set `legend=False` for the same effect.\n",
            "\n",
            "  sns.barplot(x=\"classification\", y=\"size usd\", data=avg_size, palette=\"viridis\")\n"
          ]
        },
        {
          "output_type": "display_data",
          "data": {
            "text/plain": [
              "<Figure size 800x600 with 1 Axes>"
            ],
            "image/png": "[encoded data removed]"
          },
          "metadata": {}
        }
      ]
    },
    {
      "cell_type": "markdown",
      "source": [
        "3. Win Rate by Sentiment"
      ],
      "metadata": {
        "id": "p1R2qXh6zU0O"
      }
    },
    {
      "cell_type": "code",
      "source": [
        "merged[\"profitable\"] = merged[\"closed pnl\"] > 0\n",
        "win_rate = merged.groupby(\"classification\")[\"profitable\"].mean().reset_index()\n",
        "\n",
        "plt.figure(figsize=(8,6))\n",
        "sns.barplot(x=\"classification\", y=\"profitable\", data=win_rate, palette=\"coolwarm\")\n",
        "plt.title(\"Win Rate by Market Sentiment\")\n",
        "plt.xlabel(\"Market Sentiment\")\n",
        "plt.ylabel(\"Win Rate (%)\")\n",
        "plt.savefig(\"outputs/win_rate_by_sentiment.png\", dpi=300)"
      ],
      "metadata": {
        "colab": {
          "base_uri": "https://localhost:8080/",
          "height": 655
        },
        "id": "k9l5taYGyOBw",
        "outputId": "0b1235c2-1ad4-4440-e605-62fcdef05fb1"
      },
      "execution_count": 54,
      "outputs": [
        {
          "output_type": "stream",
          "name": "stderr",
          "text": [
            "/tmp/ipython-input-3139189373.py:5: FutureWarning: \n",
            "\n",
            "Passing `palette` without assigning `hue` is deprecated and will be removed in v0.14.0. Assign the `x` variable to `hue` and set `legend=False` for the same effect.\n",
            "\n",
            "  sns.barplot(x=\"classification\", y=\"profitable\", data=win_rate, palette=\"coolwarm\")\n"
          ]
        },
        {
          "output_type": "display_data",
          "data": {
            "text/plain": [
              "<Figure size 800x600 with 1 Axes>"
            ],
            "image/png": "[encoded data removed]"
          },
          "metadata": {}
        }
      ]
    },
    {
      "cell_type": "markdown",
      "source": [
        " Heatmap: Sentiment vs Direction (Long/Short)"
      ],
      "metadata": {
        "id": "zWkSNbbizdBn"
      }
    },
    {
      "cell_type": "code",
      "source": [
        "heatmap_data = merged.pivot_table(\n",
        "    index=\"classification\", columns=\"side\", values=\"trade id\", aggfunc=\"count\"\n",
        ")\n",
        "\n",
        "plt.figure(figsize=(8,6))\n",
        "sns.heatmap(heatmap_data, annot=True, fmt=\"d\", cmap=\"YlGnBu\")\n",
        "plt.title(\"Trade Direction Counts by Market Sentiment\")\n",
        "plt.savefig(\"outputs/trade_direction_heatmap.png\", dpi=300)"
      ],
      "metadata": {
        "colab": {
          "base_uri": "https://localhost:8080/",
          "height": 564
        },
        "id": "K1__8DqvyN-1",
        "outputId": "c6ed9b07-9912-4611-d0c3-2bf26b805a83"
      },
      "execution_count": 55,
      "outputs": [
        {
          "output_type": "display_data",
          "data": {
            "text/plain": [
              "<Figure size 800x600 with 2 Axes>"
            ],
            "image/png": "[encoded data removed]"
          },
          "metadata": {}
        }
      ]
    },
    {
      "cell_type": "markdown",
      "source": [
        "# Insights"
      ],
      "metadata": {
        "id": "Bhglkf795J7b"
      }
    },
    {
      "cell_type": "markdown",
      "source": [
        "1. *PnL by Market Sentiment (Boxplot)*\n",
        "\n",
        "* Shows distribution of closed PnL (Profit & Loss) across different sentiment categories (extreme fear, fear, neutral, greed, extreme greed).\n",
        "* *Insight*:\n",
        "\n",
        "  * Extreme greed and extreme fear show wider variance (larger potential profit but also larger losses).\n",
        "  * Median PnL is closer to zero for most categories, meaning majority of trades cluster around break-even.\n",
        "  * Risk and reward both increase when sentiment is extreme."
      ],
      "metadata": {
        "id": "QPRhoeto3q79"
      }
    },
    {
      "cell_type": "markdown",
      "source": [
        "2. *Win Rate by Sentiment (Bar Plot)*\n",
        "\n",
        "* Win rate (fraction of profitable trades) is plotted for each sentiment.\n",
        "* *Insight*:\n",
        "\n",
        "  * Highest win rate appears in extreme greed.\n",
        "  * Extreme fear and fear have slightly lower win rates.\n",
        "  * Neutral sentiment has a middling win rate.\n",
        "  * Suggests that greed-driven markets might present more profitable opportunities."
      ],
      "metadata": {
        "id": "6fUtgzvi4HnX"
      }
    },
    {
      "cell_type": "markdown",
      "source": [
        "3. *Distribution of Closed PnL (Histogram)*\n",
        "\n",
        "* Shows how trade PnL values are distributed overall.\n",
        "* *Insight*:\n",
        "\n",
        "  * Extremely high concentration near 0 → most trades have small profits or losses.\n",
        "  * A few outliers with very large PnL values skew the distribution (long tails).\n",
        "  * Indicates typical trades yield small returns, while rare cases lead to very large wins/losses.\n",
        "\n",
        "---"
      ],
      "metadata": {
        "id": "M8w22EfT4LS2"
      }
    },
    {
      "cell_type": "markdown",
      "source": [
        " 4. *Average Trade Size by Market Sentiment*\n",
        "\n",
        "* Compares average trade sizes across sentiment categories.\n",
        "* *Insight*:\n",
        "\n",
        "  * Extreme fear trades are significantly larger in size compared to all other sentiments.\n",
        "  * Other categories (fear, greed, neutral, extreme greed) have relatively smaller and similar trade sizes.\n",
        "  * Suggests traders commit more capital when fear is high (possibly panic moves or big institutional plays).\n"
      ],
      "metadata": {
        "id": "HCrAkTmY4Pkf"
      }
    },
    {
      "cell_type": "markdown",
      "source": [
        " 5. *Win Rate by Market Sentiment (Seaborn Plot)*\n",
        "\n",
        "* Another visualization of win rates across sentiment categories.\n",
        "* *Insight (confirmed)*:\n",
        "\n",
        "  * Extreme greed has the highest win rate (\\~0.45–0.47).\n",
        "  * Extreme fear is lowest (\\~0.36–0.38).\n",
        "  * Others (fear, greed, neutral) sit in between.\n",
        "  * Market greed seems to favor profitability more than fear.\n"
      ],
      "metadata": {
        "id": "bwyMEkNn4Pg9"
      }
    },
    {
      "cell_type": "markdown",
      "source": [
        "# ***Overall Summary***\n",
        "\n",
        "* *PnL volatility* increases during extreme sentiment (fear/greed).\n",
        "* *Extreme greed* → highest win rate and profitable opportunities, but still with variance.\n",
        "* *Extreme fear* → largest trade sizes but lowest win rate, suggesting panic-driven inefficiency.\n",
        "* *Most trades* cluster around small profits/losses; big wins/losses are rare but impactful.\n",
        "* *Neutral markets* show moderate risk and returns, acting as a “middle ground.”"
      ],
      "metadata": {
        "id": "ghJiP4HP4PeE"
      }
    },
    {
      "cell_type": "markdown",
      "source": [
        "In simple terms:\n",
        "\n",
        "* Greed-driven markets can be more profitable but risky.\n",
        "* Fear-driven markets involve bigger capital but lower success rates.\n",
        "* Most trades don’t move much, but rare trades define the big outcomes."
      ],
      "metadata": {
        "id": "WTCw2x3E4Pa7"
      }
    },
    {
      "cell_type": "markdown",
      "source": [
        "# *Conclusion:*\n",
        "Market sentiment strongly influences trading outcomes. Extreme greed conditions yield the highest win rates, while extreme fear drives larger but less successful trades. Overall, most trades result in small gains or losses, with rare outliers creating significant impact."
      ],
      "metadata": {
        "id": "hyDG6rpq4HhT"
      }
    },
    {
      "cell_type": "code",
      "source": [],
      "metadata": {
        "id": "lTxG0Y_myN3D"
      },
      "execution_count": null,
      "outputs": []
    },
    {
      "cell_type": "code",
      "source": [],
      "metadata": {
        "id": "GvRNwMn5yNzv"
      },
      "execution_count": null,
      "outputs": []
    },
    {
      "cell_type": "code",
      "source": [],
      "metadata": {
        "id": "AaGwHhw2yNw7"
      },
      "execution_count": null,
      "outputs": []
    },
    {
      "cell_type": "code",
      "source": [],
      "metadata": {
        "id": "dkPXY7ZIyNt2"
      },
      "execution_count": null,
      "outputs": []
    },
    {
      "cell_type": "code",
      "source": [],
      "metadata": {
        "id": "GjSbsiQYnucf"
      },
      "execution_count": null,
      "outputs": []
    }
  ]
}